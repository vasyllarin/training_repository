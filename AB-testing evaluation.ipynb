{
 "cells": [
  {
   "cell_type": "markdown",
   "id": "4b72c906-699d-4af8-9a4e-3cec3378f467",
   "metadata": {},
   "source": [
    "## Frequentist statistics approach"
   ]
  },
  {
   "cell_type": "markdown",
   "id": "df1e6839-f79e-4b59-b122-f4034aa48d6b",
   "metadata": {},
   "source": [
    "#### Case 1: Target Metric is Conversion (Chi-squared test)"
   ]
  },
  {
   "cell_type": "code",
   "execution_count": 33,
   "id": "6d88ce1e-df65-469a-9db4-efb93db6c8e1",
   "metadata": {},
   "outputs": [
    {
     "name": "stdout",
     "output_type": "stream",
     "text": [
      "Contingency table:\n",
      " [[100 900]\n",
      " [130 870]]\n",
      "\n",
      "Control conversion: 10.0%\n",
      "Variant conversion: 13.0%\n",
      "\n",
      "chi2-statistic: 4.422\n",
      "p-value: 0.035\n",
      "\n",
      "✅ Statistically significant difference\n"
     ]
    }
   ],
   "source": [
    "import numpy as np\n",
    "import scipy.stats as stats\n",
    "\n",
    "# data\n",
    "control_conversions = 100\n",
    "control_users = 1000\n",
    "variant_conversions = 130\n",
    "variant_users = 1000\n",
    "\n",
    "# Create contingency table\n",
    "observed = np.array([[control_conversions, control_users - control_conversions],\n",
    "                     [variant_conversions, variant_users - variant_conversions]])\n",
    "\n",
    "# Calculate expected frequencies\n",
    "row_totals = np.sum(observed, axis=1)\n",
    "col_totals = np.sum(observed, axis=0)\n",
    "total = np.sum(observed)\n",
    "expected = np.outer(row_totals, col_totals) / total\n",
    "\n",
    "# Calculate chi-squared statistic\n",
    "chi2_statistic = np.sum((observed - expected)**2 / expected)\n",
    "\n",
    "# Calculate degrees of freedom\n",
    "degrees_of_freedom = (observed.shape[0] - 1) * (observed.shape[1] - 1)\n",
    "\n",
    "# Calculate p-value\n",
    "p_value = 1 - stats.chi2.cdf(chi2_statistic, degrees_of_freedom)\n",
    "\n",
    "# Display key info and check significance\n",
    "print(f\"Contingency table:\\n {observed}\\n\")\n",
    "print(f\"Control conversion: {control_conversions / control_users * 100}%\")\n",
    "print(f\"Variant conversion: {variant_conversions / variant_users * 100}%\\n\")\n",
    "print(f\"chi2-statistic: {round(chi2_statistic,3)}\")\n",
    "print(f\"p-value: {round(p_value,3)}\\n\")\n",
    "if p_value < 0.05:\n",
    "    print(\"✅ Statistically significant difference\")\n",
    "else:\n",
    "    print(\"❌ No statistically significant difference\")"
   ]
  },
  {
   "cell_type": "markdown",
   "id": "ff80fd4c-abf1-41f1-91c9-033365762622",
   "metadata": {},
   "source": [
    "#### Case 2: Target Metric is ARPU"
   ]
  },
  {
   "cell_type": "code",
   "execution_count": 51,
   "id": "46c5e4f7-5b0b-4ecf-bea8-0f4b59e4eb82",
   "metadata": {},
   "outputs": [
    {
     "name": "stdout",
     "output_type": "stream",
     "text": [
      "Control ARPU: $20.0\n",
      "Variant ARPU: $36.0\n",
      "\n",
      "Control standard deviation: $7.91\n",
      "Variant standard deviation: $11.94\n",
      "\n",
      "t-statistic: -2.499\n",
      "p-value: 0.037\n",
      "\n",
      "✅ Statistically significant difference\n"
     ]
    }
   ],
   "source": [
    "import numpy as np\n",
    "import scipy.stats as stats\n",
    "\n",
    "# Sample data for control group (revenue per user)\n",
    "control_revenue_per_user = np.array([10, 20, 30, 15, 25])  # Sample revenue per user for control group\n",
    "control_users = len(control_revenue_per_user)\n",
    "\n",
    "# Sample data for variant group (revenue per user)\n",
    "variant_revenue_per_user = np.array([20, 30, 50, 35, 45])  # Sample revenue per user for variant group\n",
    "variant_users = len(variant_revenue_per_user)\n",
    "\n",
    "# Calculate mean and standard deviation for revenue per user\n",
    "control_mean = np.mean(control_revenue_per_user)\n",
    "control_std = np.std(control_revenue_per_user, ddof=1)  # Use ddof=1 for sample standard deviation\n",
    "variant_mean = np.mean(variant_revenue_per_user)\n",
    "variant_std = np.std(variant_revenue_per_user, ddof=1)  # Use ddof=1 for sample standard deviation\n",
    "\n",
    "# Perform two-sample t-test\n",
    "t_statistic, p_value = stats.ttest_ind_from_stats(mean1=control_mean, std1=control_std, nobs1=control_users,\n",
    "                                                  mean2=variant_mean, std2=variant_std, nobs2=variant_users)\n",
    "\n",
    "# Display key info and check significance\n",
    "print(f\"Control ARPU: ${round(control_mean,2)}\")\n",
    "print(f\"Variant ARPU: ${round(variant_mean,2)}\\n\")\n",
    "print(f\"Control standard deviation: ${round(control_std,2)}\")\n",
    "print(f\"Variant standard deviation: ${round(variant_std,2)}\\n\")\n",
    "print(f\"t-statistic: {round(t_statistic,3)}\")\n",
    "print(f\"p-value: {round(p_value,3)}\\n\")\n",
    "if p_value < 0.05:\n",
    "    print(\"✅ Statistically significant difference\")\n",
    "else:\n",
    "    print(\"❌ No statistically significant difference\")\n"
   ]
  },
  {
   "cell_type": "markdown",
   "id": "02c32498-444a-4237-af16-7445f5c681f6",
   "metadata": {},
   "source": [
    "## Bayesian statistics approach"
   ]
  },
  {
   "cell_type": "markdown",
   "id": "311e469c-d4cb-42b6-96a8-d832f877d744",
   "metadata": {},
   "source": [
    "#### Case 1: Target Metric is Conversion¶"
   ]
  },
  {
   "cell_type": "code",
   "execution_count": 4,
   "id": "81f09a0d-e7c9-4520-b9ef-9b6aad901160",
   "metadata": {},
   "outputs": [
    {
     "name": "stderr",
     "output_type": "stream",
     "text": [
      "C:\\Users\\user\\anaconda3\\lib\\site-packages\\deprecat\\classic.py:215: FutureWarning: In v4.0, pm.sample will return an `arviz.InferenceData` object instead of a `MultiTrace` by default. You can pass return_inferencedata=True or return_inferencedata=False to be safe and silence this warning.\n",
      "  return wrapped_(*args_, **kwargs_)\n",
      "Auto-assigning NUTS sampler...\n",
      "Initializing NUTS using jitter+adapt_diag...\n",
      "Sequential sampling (2 chains in 1 job)\n",
      "NUTS: [variant_conversions_prior, control_conversions_prior]\n"
     ]
    },
    {
     "data": {
      "text/html": [
       "\n",
       "<style>\n",
       "    /* Turns off some styling */\n",
       "    progress {\n",
       "        /* gets rid of default border in Firefox and Opera. */\n",
       "        border: none;\n",
       "        /* Needs to be in here for Safari polyfill so background images work as expected. */\n",
       "        background-size: auto;\n",
       "    }\n",
       "    progress:not([value]), progress:not([value])::-webkit-progress-bar {\n",
       "        background: repeating-linear-gradient(45deg, #7e7e7e, #7e7e7e 10px, #5c5c5c 10px, #5c5c5c 20px);\n",
       "    }\n",
       "    .progress-bar-interrupted, .progress-bar-interrupted::-webkit-progress-bar {\n",
       "        background: #F44336;\n",
       "    }\n",
       "</style>\n"
      ],
      "text/plain": [
       "<IPython.core.display.HTML object>"
      ]
     },
     "metadata": {},
     "output_type": "display_data"
    },
    {
     "data": {
      "text/html": [
       "\n",
       "    <div>\n",
       "      <progress value='2000' class='' max='2000' style='width:300px; height:20px; vertical-align: middle;'></progress>\n",
       "      100.00% [2000/2000 00:14&lt;00:00 Sampling chain 0, 0 divergences]\n",
       "    </div>\n",
       "    "
      ],
      "text/plain": [
       "<IPython.core.display.HTML object>"
      ]
     },
     "metadata": {},
     "output_type": "display_data"
    },
    {
     "data": {
      "text/html": [
       "\n",
       "<style>\n",
       "    /* Turns off some styling */\n",
       "    progress {\n",
       "        /* gets rid of default border in Firefox and Opera. */\n",
       "        border: none;\n",
       "        /* Needs to be in here for Safari polyfill so background images work as expected. */\n",
       "        background-size: auto;\n",
       "    }\n",
       "    progress:not([value]), progress:not([value])::-webkit-progress-bar {\n",
       "        background: repeating-linear-gradient(45deg, #7e7e7e, #7e7e7e 10px, #5c5c5c 10px, #5c5c5c 20px);\n",
       "    }\n",
       "    .progress-bar-interrupted, .progress-bar-interrupted::-webkit-progress-bar {\n",
       "        background: #F44336;\n",
       "    }\n",
       "</style>\n"
      ],
      "text/plain": [
       "<IPython.core.display.HTML object>"
      ]
     },
     "metadata": {},
     "output_type": "display_data"
    },
    {
     "data": {
      "text/html": [
       "\n",
       "    <div>\n",
       "      <progress value='2000' class='' max='2000' style='width:300px; height:20px; vertical-align: middle;'></progress>\n",
       "      100.00% [2000/2000 00:15&lt;00:00 Sampling chain 1, 0 divergences]\n",
       "    </div>\n",
       "    "
      ],
      "text/plain": [
       "<IPython.core.display.HTML object>"
      ]
     },
     "metadata": {},
     "output_type": "display_data"
    },
    {
     "name": "stderr",
     "output_type": "stream",
     "text": [
      "Sampling 2 chains for 1_000 tune and 1_000 draw iterations (2_000 + 2_000 draws total) took 30 seconds.\n",
      "Got error No model on context stack. trying to find log_likelihood in translation.\n",
      "C:\\Users\\user\\anaconda3\\lib\\site-packages\\arviz\\data\\io_pymc3_3x.py:98: FutureWarning: Using `from_pymc3` without the model will be deprecated in a future release. Not using the model will return less accurate and less useful results. Make sure you use the model argument or call from_pymc3 within a model context.\n",
      "  warnings.warn(\n"
     ]
    },
    {
     "name": "stdout",
     "output_type": "stream",
     "text": [
      "Probability that variant beats control: 0.986\n"
     ]
    }
   ],
   "source": [
    "import numpy as np\n",
    "import pymc3 as pm\n",
    "\n",
    "# Data for conversion rate\n",
    "control_conversions = 500\n",
    "control_users = 1000\n",
    "variant_conversions = 550\n",
    "variant_users = 1000\n",
    "\n",
    "# Define Bayesian model for conversion rate\n",
    "with pm.Model() as conversion_model:\n",
    "    # Define priors\n",
    "    control_conversions_prior = pm.Beta('control_conversions_prior', alpha=1, beta=1)\n",
    "    variant_conversions_prior = pm.Beta('variant_conversions_prior', alpha=1, beta=1)\n",
    "\n",
    "    # Define likelihood\n",
    "    control_conversions_observed = pm.Binomial('control_conversions_observed', n=control_users, p=control_conversions_prior, observed=control_conversions)\n",
    "    variant_conversions_observed = pm.Binomial('variant_conversions_observed', n=variant_users, p=variant_conversions_prior, observed=variant_conversions)\n",
    "\n",
    "    # Define treatment effect\n",
    "    treatment_effect_conversion = pm.Deterministic('treatment_effect_conversion', variant_conversions_prior - control_conversions_prior)\n",
    "\n",
    "    # Sample from posterior distribution\n",
    "    trace_conversion = pm.sample(1000, tune=1000, cores=1)\n",
    "\n",
    "# Analyze posterior samples\n",
    "pm.summary(trace_conversion)\n",
    "\n",
    "# Calculate probability that variant beats control\n",
    "conversion_diff = trace_conversion['treatment_effect_conversion']\n",
    "prob_variant_beats_control = np.mean(conversion_diff > 0)\n",
    "print(\"Probability that variant beats control:\", prob_variant_beats_control)\n"
   ]
  },
  {
   "cell_type": "code",
   "execution_count": null,
   "id": "84c7edaa-c14d-45e3-a81e-bf7a6a074e13",
   "metadata": {},
   "outputs": [],
   "source": []
  },
  {
   "cell_type": "markdown",
   "id": "25656e7c-a560-4035-b3cf-fa4932cc16b0",
   "metadata": {},
   "source": [
    "#### Case 2: Target Metric is ARPU"
   ]
  },
  {
   "cell_type": "code",
   "execution_count": 7,
   "id": "b4a31327-e093-468b-a09c-33f54a2bc3c7",
   "metadata": {},
   "outputs": [
    {
     "name": "stderr",
     "output_type": "stream",
     "text": [
      "C:\\Users\\user\\anaconda3\\lib\\site-packages\\deprecat\\classic.py:215: FutureWarning: In v4.0, pm.sample will return an `arviz.InferenceData` object instead of a `MultiTrace` by default. You can pass return_inferencedata=True or return_inferencedata=False to be safe and silence this warning.\n",
      "  return wrapped_(*args_, **kwargs_)\n",
      "Auto-assigning NUTS sampler...\n",
      "Initializing NUTS using jitter+adapt_diag...\n",
      "C:\\Users\\user\\anaconda3\\lib\\site-packages\\theano\\tensor\\elemwise.py:826: RuntimeWarning: divide by zero encountered in log\n",
      "  variables = ufunc(*ufunc_args, **ufunc_kwargs)\n",
      "C:\\Users\\user\\anaconda3\\lib\\site-packages\\theano\\tensor\\elemwise.py:826: RuntimeWarning: invalid value encountered in multiply\n",
      "  variables = ufunc(*ufunc_args, **ufunc_kwargs)\n",
      "Sequential sampling (2 chains in 1 job)\n",
      "NUTS: [variant_arpu_prior, control_arpu_prior]\n"
     ]
    },
    {
     "data": {
      "text/html": [
       "\n",
       "<style>\n",
       "    /* Turns off some styling */\n",
       "    progress {\n",
       "        /* gets rid of default border in Firefox and Opera. */\n",
       "        border: none;\n",
       "        /* Needs to be in here for Safari polyfill so background images work as expected. */\n",
       "        background-size: auto;\n",
       "    }\n",
       "    progress:not([value]), progress:not([value])::-webkit-progress-bar {\n",
       "        background: repeating-linear-gradient(45deg, #7e7e7e, #7e7e7e 10px, #5c5c5c 10px, #5c5c5c 20px);\n",
       "    }\n",
       "    .progress-bar-interrupted, .progress-bar-interrupted::-webkit-progress-bar {\n",
       "        background: #F44336;\n",
       "    }\n",
       "</style>\n"
      ],
      "text/plain": [
       "<IPython.core.display.HTML object>"
      ]
     },
     "metadata": {},
     "output_type": "display_data"
    },
    {
     "data": {
      "text/html": [
       "\n",
       "    <div>\n",
       "      <progress value='2000' class='' max='2000' style='width:300px; height:20px; vertical-align: middle;'></progress>\n",
       "      100.00% [2000/2000 00:06&lt;00:00 Sampling chain 0, 0 divergences]\n",
       "    </div>\n",
       "    "
      ],
      "text/plain": [
       "<IPython.core.display.HTML object>"
      ]
     },
     "metadata": {},
     "output_type": "display_data"
    },
    {
     "data": {
      "text/html": [
       "\n",
       "<style>\n",
       "    /* Turns off some styling */\n",
       "    progress {\n",
       "        /* gets rid of default border in Firefox and Opera. */\n",
       "        border: none;\n",
       "        /* Needs to be in here for Safari polyfill so background images work as expected. */\n",
       "        background-size: auto;\n",
       "    }\n",
       "    progress:not([value]), progress:not([value])::-webkit-progress-bar {\n",
       "        background: repeating-linear-gradient(45deg, #7e7e7e, #7e7e7e 10px, #5c5c5c 10px, #5c5c5c 20px);\n",
       "    }\n",
       "    .progress-bar-interrupted, .progress-bar-interrupted::-webkit-progress-bar {\n",
       "        background: #F44336;\n",
       "    }\n",
       "</style>\n"
      ],
      "text/plain": [
       "<IPython.core.display.HTML object>"
      ]
     },
     "metadata": {},
     "output_type": "display_data"
    },
    {
     "data": {
      "text/html": [
       "\n",
       "    <div>\n",
       "      <progress value='2000' class='' max='2000' style='width:300px; height:20px; vertical-align: middle;'></progress>\n",
       "      100.00% [2000/2000 00:06&lt;00:00 Sampling chain 1, 0 divergences]\n",
       "    </div>\n",
       "    "
      ],
      "text/plain": [
       "<IPython.core.display.HTML object>"
      ]
     },
     "metadata": {},
     "output_type": "display_data"
    },
    {
     "name": "stderr",
     "output_type": "stream",
     "text": [
      "Sampling 2 chains for 1_000 tune and 1_000 draw iterations (2_000 + 2_000 draws total) took 13 seconds.\n",
      "Got error No model on context stack. trying to find log_likelihood in translation.\n",
      "C:\\Users\\user\\anaconda3\\lib\\site-packages\\arviz\\data\\io_pymc3_3x.py:98: FutureWarning: Using `from_pymc3` without the model will be deprecated in a future release. Not using the model will return less accurate and less useful results. Make sure you use the model argument or call from_pymc3 within a model context.\n",
      "  warnings.warn(\n"
     ]
    },
    {
     "name": "stdout",
     "output_type": "stream",
     "text": [
      "Probability that variant beats control: 0.578\n"
     ]
    }
   ],
   "source": [
    "import numpy as np\n",
    "import pymc3 as pm\n",
    "\n",
    "# Example data for ARPU\n",
    "control_revenues = [95, 110, 105, 90, 100, 115, 105, 120, 95, 110]\n",
    "variant_revenues = [105, 100, 115, 120, 110, 100, 105, 110, 115, 100]\n",
    "\n",
    "# Calculate ARPU\n",
    "control_arpu = np.mean(control_revenues)\n",
    "variant_arpu = np.mean(variant_revenues)\n",
    "\n",
    "# Define Bayesian model for ARPU\n",
    "with pm.Model() as arpu_model:\n",
    "    # Define priors\n",
    "    control_arpu_prior = pm.Normal('control_arpu_prior', mu=control_arpu, sd=20)\n",
    "    variant_arpu_prior = pm.Normal('variant_arpu_prior', mu=variant_arpu, sd=20)\n",
    "\n",
    "    # Define likelihood\n",
    "    control_arpu_observed = pm.Normal('control_arpu_observed', mu=control_arpu_prior, sd=20, observed=control_arpu)\n",
    "    variant_arpu_observed = pm.Normal('variant_arpu_observed', mu=variant_arpu_prior, sd=20, observed=variant_arpu)\n",
    "\n",
    "    # Define treatment effect\n",
    "    treatment_effect_arpu = pm.Deterministic('treatment_effect_arpu', variant_arpu_prior - control_arpu_prior)\n",
    "\n",
    "    # Sample from posterior distribution\n",
    "    trace_arpu = pm.sample(1000, tune=1000, cores=1)\n",
    "\n",
    "# Analyze posterior samples\n",
    "pm.summary(trace_arpu)\n",
    "\n",
    "# Calculate probability that variant beats control\n",
    "arpu_diff = trace_arpu['treatment_effect_arpu']\n",
    "prob_variant_beats_control = np.mean(arpu_diff > 0)\n",
    "print(\"Probability that variant beats control:\", prob_variant_beats_control)\n"
   ]
  },
  {
   "cell_type": "code",
   "execution_count": null,
   "id": "dd8828e6-8c3e-4b77-a893-ddb109280a6e",
   "metadata": {},
   "outputs": [],
   "source": []
  }
 ],
 "metadata": {
  "kernelspec": {
   "display_name": "Python 3 (ipykernel)",
   "language": "python",
   "name": "python3"
  },
  "language_info": {
   "codemirror_mode": {
    "name": "ipython",
    "version": 3
   },
   "file_extension": ".py",
   "mimetype": "text/x-python",
   "name": "python",
   "nbconvert_exporter": "python",
   "pygments_lexer": "ipython3",
   "version": "3.9.18"
  }
 },
 "nbformat": 4,
 "nbformat_minor": 5
}
