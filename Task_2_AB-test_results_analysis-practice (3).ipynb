{
 "cells": [
  {
   "cell_type": "markdown",
   "id": "b7b744ec-0ba7-42f3-a9e2-421a36815012",
   "metadata": {},
   "source": [
    "# Зміст\n",
    "1. Підготовка даних до аналізу\n",
    "2. Аналіз результатів АВ-тесту\n",
    "3. Висновки і пропозиції"
   ]
  },
  {
   "cell_type": "markdown",
   "id": "fe6b43bb-7330-454d-b4fd-3fa103768ca0",
   "metadata": {},
   "source": [
    "# 1. Підготовка даних до аналізу"
   ]
  },
  {
   "cell_type": "markdown",
   "id": "5df6a0f6-933d-4da6-9370-f101dec71d7b",
   "metadata": {},
   "source": [
    "### Імпорт бібліотек Python для аналізу та візуалізації даних"
   ]
  },
  {
   "cell_type": "code",
   "execution_count": 1,
   "id": "bf1c8536-62d0-4ac1-a21e-b1e9ed4e9750",
   "metadata": {},
   "outputs": [],
   "source": [
    "import numpy as np\n",
    "import pandas as pd\n",
    "import scipy.stats as stats\n",
    "import matplotlib.pyplot as plt"
   ]
  },
  {
   "cell_type": "markdown",
   "id": "60a5c0ac-7d95-49c4-a4e3-8b4791890c33",
   "metadata": {},
   "source": [
    "### Створення датасету на основі csv файлу"
   ]
  },
  {
   "cell_type": "code",
   "execution_count": 2,
   "id": "56d959d0-75c2-4f88-84d1-68ec015a3bcb",
   "metadata": {},
   "outputs": [
    {
     "data": {
      "text/html": [
       "<div>\n",
       "<style scoped>\n",
       "    .dataframe tbody tr th:only-of-type {\n",
       "        vertical-align: middle;\n",
       "    }\n",
       "\n",
       "    .dataframe tbody tr th {\n",
       "        vertical-align: top;\n",
       "    }\n",
       "\n",
       "    .dataframe thead th {\n",
       "        text-align: right;\n",
       "    }\n",
       "</style>\n",
       "<table border=\"1\" class=\"dataframe\">\n",
       "  <thead>\n",
       "    <tr style=\"text-align: right;\">\n",
       "      <th></th>\n",
       "      <th>sender_id</th>\n",
       "      <th>platform_id</th>\n",
       "      <th>time_stamp</th>\n",
       "      <th>gender</th>\n",
       "      <th>reg_date</th>\n",
       "    </tr>\n",
       "  </thead>\n",
       "  <tbody>\n",
       "    <tr>\n",
       "      <th>0</th>\n",
       "      <td>3207526951</td>\n",
       "      <td>6</td>\n",
       "      <td>16.03.2017 13:35</td>\n",
       "      <td>m</td>\n",
       "      <td>26.01.2017</td>\n",
       "    </tr>\n",
       "    <tr>\n",
       "      <th>1</th>\n",
       "      <td>3207526951</td>\n",
       "      <td>6</td>\n",
       "      <td>16.03.2017 9:09</td>\n",
       "      <td>m</td>\n",
       "      <td>26.01.2017</td>\n",
       "    </tr>\n",
       "    <tr>\n",
       "      <th>2</th>\n",
       "      <td>3207526951</td>\n",
       "      <td>6</td>\n",
       "      <td>16.03.2017 9:09</td>\n",
       "      <td>m</td>\n",
       "      <td>26.01.2017</td>\n",
       "    </tr>\n",
       "    <tr>\n",
       "      <th>3</th>\n",
       "      <td>3207526951</td>\n",
       "      <td>6</td>\n",
       "      <td>16.03.2017 12:13</td>\n",
       "      <td>m</td>\n",
       "      <td>26.01.2017</td>\n",
       "    </tr>\n",
       "    <tr>\n",
       "      <th>4</th>\n",
       "      <td>3207526951</td>\n",
       "      <td>6</td>\n",
       "      <td>15.03.2017 14:01</td>\n",
       "      <td>m</td>\n",
       "      <td>26.01.2017</td>\n",
       "    </tr>\n",
       "    <tr>\n",
       "      <th>...</th>\n",
       "      <td>...</td>\n",
       "      <td>...</td>\n",
       "      <td>...</td>\n",
       "      <td>...</td>\n",
       "      <td>...</td>\n",
       "    </tr>\n",
       "    <tr>\n",
       "      <th>768434</th>\n",
       "      <td>3208782485</td>\n",
       "      <td>6</td>\n",
       "      <td>23.03.2017 1:11</td>\n",
       "      <td>m</td>\n",
       "      <td>01.02.2017</td>\n",
       "    </tr>\n",
       "    <tr>\n",
       "      <th>768435</th>\n",
       "      <td>3208782485</td>\n",
       "      <td>6</td>\n",
       "      <td>23.03.2017 1:11</td>\n",
       "      <td>m</td>\n",
       "      <td>01.02.2017</td>\n",
       "    </tr>\n",
       "    <tr>\n",
       "      <th>768436</th>\n",
       "      <td>3208782485</td>\n",
       "      <td>6</td>\n",
       "      <td>23.03.2017 1:10</td>\n",
       "      <td>m</td>\n",
       "      <td>01.02.2017</td>\n",
       "    </tr>\n",
       "    <tr>\n",
       "      <th>768437</th>\n",
       "      <td>3208782485</td>\n",
       "      <td>6</td>\n",
       "      <td>23.03.2017 1:10</td>\n",
       "      <td>m</td>\n",
       "      <td>01.02.2017</td>\n",
       "    </tr>\n",
       "    <tr>\n",
       "      <th>768438</th>\n",
       "      <td>3208782485</td>\n",
       "      <td>6</td>\n",
       "      <td>23.03.2017 1:11</td>\n",
       "      <td>m</td>\n",
       "      <td>01.02.2017</td>\n",
       "    </tr>\n",
       "  </tbody>\n",
       "</table>\n",
       "<p>768439 rows × 5 columns</p>\n",
       "</div>"
      ],
      "text/plain": [
       "         sender_id  platform_id        time_stamp gender    reg_date\n",
       "0       3207526951            6  16.03.2017 13:35      m  26.01.2017\n",
       "1       3207526951            6   16.03.2017 9:09      m  26.01.2017\n",
       "2       3207526951            6   16.03.2017 9:09      m  26.01.2017\n",
       "3       3207526951            6  16.03.2017 12:13      m  26.01.2017\n",
       "4       3207526951            6  15.03.2017 14:01      m  26.01.2017\n",
       "...            ...          ...               ...    ...         ...\n",
       "768434  3208782485            6   23.03.2017 1:11      m  01.02.2017\n",
       "768435  3208782485            6   23.03.2017 1:11      m  01.02.2017\n",
       "768436  3208782485            6   23.03.2017 1:10      m  01.02.2017\n",
       "768437  3208782485            6   23.03.2017 1:10      m  01.02.2017\n",
       "768438  3208782485            6   23.03.2017 1:11      m  01.02.2017\n",
       "\n",
       "[768439 rows x 5 columns]"
      ]
     },
     "execution_count": 2,
     "metadata": {},
     "output_type": "execute_result"
    }
   ],
   "source": [
    "data = pd.read_csv('ab_test_data.csv', sep=';')\n",
    "data"
   ]
  },
  {
   "cell_type": "markdown",
   "id": "e7790981-88b9-4977-9921-488af06ca89f",
   "metadata": {},
   "source": [
    "### Пошук пропущених значень"
   ]
  },
  {
   "cell_type": "code",
   "execution_count": 3,
   "id": "8560e5e4-63ef-49c2-a62b-cca5c81e6738",
   "metadata": {
    "scrolled": true
   },
   "outputs": [
    {
     "name": "stdout",
     "output_type": "stream",
     "text": [
      "<class 'pandas.core.frame.DataFrame'>\n",
      "RangeIndex: 768439 entries, 0 to 768438\n",
      "Data columns (total 5 columns):\n",
      " #   Column       Non-Null Count   Dtype \n",
      "---  ------       --------------   ----- \n",
      " 0   sender_id    768439 non-null  int64 \n",
      " 1   platform_id  768439 non-null  int64 \n",
      " 2   time_stamp   768439 non-null  object\n",
      " 3   gender       768439 non-null  object\n",
      " 4   reg_date     768439 non-null  object\n",
      "dtypes: int64(2), object(3)\n",
      "memory usage: 29.3+ MB\n"
     ]
    }
   ],
   "source": [
    "data.info()"
   ]
  },
  {
   "cell_type": "code",
   "execution_count": 4,
   "id": "ee113368-fc51-4e33-8c42-ae422bb17ebc",
   "metadata": {},
   "outputs": [
    {
     "data": {
      "text/plain": [
       "sender_id\n",
       "3204314070    6050\n",
       "3204411481    4974\n",
       "3202057642    4458\n",
       "3213922747    3850\n",
       "3204297224    3777\n",
       "              ... \n",
       "3216182987       1\n",
       "3216186142       1\n",
       "3216185970       1\n",
       "3217426915       1\n",
       "3208726766       1\n",
       "Name: count, Length: 26321, dtype: int64"
      ]
     },
     "execution_count": 4,
     "metadata": {},
     "output_type": "execute_result"
    }
   ],
   "source": [
    "data['sender_id'].value_counts()"
   ]
  },
  {
   "cell_type": "code",
   "execution_count": 5,
   "id": "9c894d93-fb05-48f0-ba2e-bd02e1938202",
   "metadata": {},
   "outputs": [
    {
     "data": {
      "text/plain": [
       "platform_id\n",
       "6    446092\n",
       "7    322347\n",
       "Name: count, dtype: int64"
      ]
     },
     "execution_count": 5,
     "metadata": {},
     "output_type": "execute_result"
    }
   ],
   "source": [
    "data['platform_id'].value_counts()"
   ]
  },
  {
   "cell_type": "code",
   "execution_count": 6,
   "id": "d6e02090-c3dd-4046-ba1f-777956639a5b",
   "metadata": {},
   "outputs": [
    {
     "data": {
      "text/plain": [
       "time_stamp\n",
       "14.03.2017 14:26    239\n",
       "15.03.2017 17:03    237\n",
       "25.03.2017 18:29    230\n",
       "15.03.2017 10:35    212\n",
       "13.03.2017 11:09    212\n",
       "                   ... \n",
       "19.03.2017 2:40       2\n",
       "23.03.2017 5:37       2\n",
       "26.03.2017 15:15      2\n",
       "21.03.2017 23:25      1\n",
       "27.03.2017 0:00       1\n",
       "Name: count, Length: 20100, dtype: int64"
      ]
     },
     "execution_count": 6,
     "metadata": {},
     "output_type": "execute_result"
    }
   ],
   "source": [
    "data['time_stamp'].value_counts()"
   ]
  },
  {
   "cell_type": "code",
   "execution_count": 7,
   "id": "793aff6e-4450-461b-9db5-057f521d62dc",
   "metadata": {},
   "outputs": [
    {
     "data": {
      "text/plain": [
       "gender\n",
       "m    659569\n",
       "f    108699\n",
       "        171\n",
       "Name: count, dtype: int64"
      ]
     },
     "execution_count": 7,
     "metadata": {},
     "output_type": "execute_result"
    }
   ],
   "source": [
    "data['gender'].value_counts()"
   ]
  },
  {
   "cell_type": "code",
   "execution_count": 8,
   "id": "e56e1dec-a3e7-42c8-a6f5-fdf5ea94e393",
   "metadata": {},
   "outputs": [
    {
     "data": {
      "text/plain": [
       "reg_date\n",
       "13.03.2017    31548\n",
       "14.03.2017    28913\n",
       "16.03.2017    22395\n",
       "15.03.2017    21622\n",
       "17.03.2017    20484\n",
       "              ...  \n",
       "01.02.2017     3957\n",
       "14.02.2017     3654\n",
       "15.01.2017     3641\n",
       "12.02.2017     3607\n",
       "10.01.2017     2895\n",
       "Name: count, Length: 85, dtype: int64"
      ]
     },
     "execution_count": 8,
     "metadata": {},
     "output_type": "execute_result"
    }
   ],
   "source": [
    "data['reg_date'].value_counts()"
   ]
  },
  {
   "cell_type": "markdown",
   "id": "e602c103-db79-42b9-a44f-e666fc62a81a",
   "metadata": {},
   "source": [
    "Датасет не містить NaN значень, але в колонці 'gender' є 171 рядок, у яких не вказано гендер.  Для цілей аналізу замінимо пусті значення на 'nb' (небінарний гендер) і виведемо оновлені дані - як видно, всі порожні дані замінено на 'nb'"
   ]
  },
  {
   "cell_type": "code",
   "execution_count": 9,
   "id": "b4caf14f-474c-4124-aa1a-4666844c3cbe",
   "metadata": {},
   "outputs": [
    {
     "data": {
      "text/plain": [
       "gender\n",
       "m     659569\n",
       "f     108699\n",
       "nb       171\n",
       "Name: count, dtype: int64"
      ]
     },
     "execution_count": 9,
     "metadata": {},
     "output_type": "execute_result"
    }
   ],
   "source": [
    "data['gender'] = data['gender'].replace(' ', 'nb')\n",
    "data['gender'].value_counts()"
   ]
  },
  {
   "cell_type": "markdown",
   "id": "67cf3a50-9dfd-405f-b5df-658c0309fe65",
   "metadata": {},
   "source": [
    "### Конвертація дати у стандартний формат"
   ]
  },
  {
   "cell_type": "code",
   "execution_count": 10,
   "id": "bb0fd955-c889-4620-9851-67889e4f4b64",
   "metadata": {
    "scrolled": true
   },
   "outputs": [
    {
     "name": "stderr",
     "output_type": "stream",
     "text": [
      "C:\\Users\\user\\AppData\\Local\\Temp\\ipykernel_14420\\1177350865.py:1: UserWarning: Parsing dates in %d.%m.%Y %H:%M format when dayfirst=False (the default) was specified. Pass `dayfirst=True` or specify a format to silence this warning.\n",
      "  data['time_stamp'] = pd.to_datetime(data['time_stamp'])\n",
      "C:\\Users\\user\\AppData\\Local\\Temp\\ipykernel_14420\\1177350865.py:2: UserWarning: Parsing dates in %d.%m.%Y format when dayfirst=False (the default) was specified. Pass `dayfirst=True` or specify a format to silence this warning.\n",
      "  data['reg_date'] = pd.to_datetime(data['reg_date']).dt.date\n"
     ]
    },
    {
     "data": {
      "text/html": [
       "<div>\n",
       "<style scoped>\n",
       "    .dataframe tbody tr th:only-of-type {\n",
       "        vertical-align: middle;\n",
       "    }\n",
       "\n",
       "    .dataframe tbody tr th {\n",
       "        vertical-align: top;\n",
       "    }\n",
       "\n",
       "    .dataframe thead th {\n",
       "        text-align: right;\n",
       "    }\n",
       "</style>\n",
       "<table border=\"1\" class=\"dataframe\">\n",
       "  <thead>\n",
       "    <tr style=\"text-align: right;\">\n",
       "      <th></th>\n",
       "      <th>sender_id</th>\n",
       "      <th>platform_id</th>\n",
       "      <th>time_stamp</th>\n",
       "      <th>gender</th>\n",
       "      <th>reg_date</th>\n",
       "    </tr>\n",
       "  </thead>\n",
       "  <tbody>\n",
       "    <tr>\n",
       "      <th>0</th>\n",
       "      <td>3207526951</td>\n",
       "      <td>6</td>\n",
       "      <td>2017-03-16 13:35:00</td>\n",
       "      <td>m</td>\n",
       "      <td>2017-01-26</td>\n",
       "    </tr>\n",
       "    <tr>\n",
       "      <th>1</th>\n",
       "      <td>3207526951</td>\n",
       "      <td>6</td>\n",
       "      <td>2017-03-16 09:09:00</td>\n",
       "      <td>m</td>\n",
       "      <td>2017-01-26</td>\n",
       "    </tr>\n",
       "    <tr>\n",
       "      <th>2</th>\n",
       "      <td>3207526951</td>\n",
       "      <td>6</td>\n",
       "      <td>2017-03-16 09:09:00</td>\n",
       "      <td>m</td>\n",
       "      <td>2017-01-26</td>\n",
       "    </tr>\n",
       "    <tr>\n",
       "      <th>3</th>\n",
       "      <td>3207526951</td>\n",
       "      <td>6</td>\n",
       "      <td>2017-03-16 12:13:00</td>\n",
       "      <td>m</td>\n",
       "      <td>2017-01-26</td>\n",
       "    </tr>\n",
       "    <tr>\n",
       "      <th>4</th>\n",
       "      <td>3207526951</td>\n",
       "      <td>6</td>\n",
       "      <td>2017-03-15 14:01:00</td>\n",
       "      <td>m</td>\n",
       "      <td>2017-01-26</td>\n",
       "    </tr>\n",
       "    <tr>\n",
       "      <th>...</th>\n",
       "      <td>...</td>\n",
       "      <td>...</td>\n",
       "      <td>...</td>\n",
       "      <td>...</td>\n",
       "      <td>...</td>\n",
       "    </tr>\n",
       "    <tr>\n",
       "      <th>768434</th>\n",
       "      <td>3208782485</td>\n",
       "      <td>6</td>\n",
       "      <td>2017-03-23 01:11:00</td>\n",
       "      <td>m</td>\n",
       "      <td>2017-02-01</td>\n",
       "    </tr>\n",
       "    <tr>\n",
       "      <th>768435</th>\n",
       "      <td>3208782485</td>\n",
       "      <td>6</td>\n",
       "      <td>2017-03-23 01:11:00</td>\n",
       "      <td>m</td>\n",
       "      <td>2017-02-01</td>\n",
       "    </tr>\n",
       "    <tr>\n",
       "      <th>768436</th>\n",
       "      <td>3208782485</td>\n",
       "      <td>6</td>\n",
       "      <td>2017-03-23 01:10:00</td>\n",
       "      <td>m</td>\n",
       "      <td>2017-02-01</td>\n",
       "    </tr>\n",
       "    <tr>\n",
       "      <th>768437</th>\n",
       "      <td>3208782485</td>\n",
       "      <td>6</td>\n",
       "      <td>2017-03-23 01:10:00</td>\n",
       "      <td>m</td>\n",
       "      <td>2017-02-01</td>\n",
       "    </tr>\n",
       "    <tr>\n",
       "      <th>768438</th>\n",
       "      <td>3208782485</td>\n",
       "      <td>6</td>\n",
       "      <td>2017-03-23 01:11:00</td>\n",
       "      <td>m</td>\n",
       "      <td>2017-02-01</td>\n",
       "    </tr>\n",
       "  </tbody>\n",
       "</table>\n",
       "<p>768439 rows × 5 columns</p>\n",
       "</div>"
      ],
      "text/plain": [
       "         sender_id  platform_id          time_stamp gender    reg_date\n",
       "0       3207526951            6 2017-03-16 13:35:00      m  2017-01-26\n",
       "1       3207526951            6 2017-03-16 09:09:00      m  2017-01-26\n",
       "2       3207526951            6 2017-03-16 09:09:00      m  2017-01-26\n",
       "3       3207526951            6 2017-03-16 12:13:00      m  2017-01-26\n",
       "4       3207526951            6 2017-03-15 14:01:00      m  2017-01-26\n",
       "...            ...          ...                 ...    ...         ...\n",
       "768434  3208782485            6 2017-03-23 01:11:00      m  2017-02-01\n",
       "768435  3208782485            6 2017-03-23 01:11:00      m  2017-02-01\n",
       "768436  3208782485            6 2017-03-23 01:10:00      m  2017-02-01\n",
       "768437  3208782485            6 2017-03-23 01:10:00      m  2017-02-01\n",
       "768438  3208782485            6 2017-03-23 01:11:00      m  2017-02-01\n",
       "\n",
       "[768439 rows x 5 columns]"
      ]
     },
     "execution_count": 10,
     "metadata": {},
     "output_type": "execute_result"
    }
   ],
   "source": [
    "data['time_stamp'] = pd.to_datetime(data['time_stamp'])\n",
    "data['reg_date'] = pd.to_datetime(data['reg_date']).dt.date\n",
    "data"
   ]
  },
  {
   "cell_type": "markdown",
   "id": "521ad1b9-c87f-4ffe-868c-bcc98d4c0983",
   "metadata": {},
   "source": [
    "### Перевірка логіки дат (time_stamp має бути не пізніше reg_date)"
   ]
  },
  {
   "cell_type": "code",
   "execution_count": 11,
   "id": "28dd51ce-d16e-4685-a1b1-c48f521120de",
   "metadata": {},
   "outputs": [
    {
     "data": {
      "text/html": [
       "<div>\n",
       "<style scoped>\n",
       "    .dataframe tbody tr th:only-of-type {\n",
       "        vertical-align: middle;\n",
       "    }\n",
       "\n",
       "    .dataframe tbody tr th {\n",
       "        vertical-align: top;\n",
       "    }\n",
       "\n",
       "    .dataframe thead th {\n",
       "        text-align: right;\n",
       "    }\n",
       "</style>\n",
       "<table border=\"1\" class=\"dataframe\">\n",
       "  <thead>\n",
       "    <tr style=\"text-align: right;\">\n",
       "      <th></th>\n",
       "      <th>sender_id</th>\n",
       "      <th>platform_id</th>\n",
       "      <th>time_stamp</th>\n",
       "      <th>gender</th>\n",
       "      <th>reg_date</th>\n",
       "    </tr>\n",
       "  </thead>\n",
       "  <tbody>\n",
       "    <tr>\n",
       "      <th>102670</th>\n",
       "      <td>3216840863</td>\n",
       "      <td>7</td>\n",
       "      <td>2017-03-13 23:56:00</td>\n",
       "      <td>f</td>\n",
       "      <td>2017-03-14</td>\n",
       "    </tr>\n",
       "    <tr>\n",
       "      <th>102671</th>\n",
       "      <td>3216840863</td>\n",
       "      <td>7</td>\n",
       "      <td>2017-03-13 23:56:00</td>\n",
       "      <td>f</td>\n",
       "      <td>2017-03-14</td>\n",
       "    </tr>\n",
       "    <tr>\n",
       "      <th>102672</th>\n",
       "      <td>3216840863</td>\n",
       "      <td>7</td>\n",
       "      <td>2017-03-13 23:56:00</td>\n",
       "      <td>f</td>\n",
       "      <td>2017-03-14</td>\n",
       "    </tr>\n",
       "    <tr>\n",
       "      <th>102673</th>\n",
       "      <td>3216840863</td>\n",
       "      <td>7</td>\n",
       "      <td>2017-03-13 23:55:00</td>\n",
       "      <td>f</td>\n",
       "      <td>2017-03-14</td>\n",
       "    </tr>\n",
       "    <tr>\n",
       "      <th>143056</th>\n",
       "      <td>3217416110</td>\n",
       "      <td>7</td>\n",
       "      <td>2017-03-16 23:59:00</td>\n",
       "      <td>m</td>\n",
       "      <td>2017-03-17</td>\n",
       "    </tr>\n",
       "    <tr>\n",
       "      <th>143063</th>\n",
       "      <td>3217416110</td>\n",
       "      <td>7</td>\n",
       "      <td>2017-03-16 23:58:00</td>\n",
       "      <td>m</td>\n",
       "      <td>2017-03-17</td>\n",
       "    </tr>\n",
       "    <tr>\n",
       "      <th>143073</th>\n",
       "      <td>3217416110</td>\n",
       "      <td>7</td>\n",
       "      <td>2017-03-16 23:59:00</td>\n",
       "      <td>m</td>\n",
       "      <td>2017-03-17</td>\n",
       "    </tr>\n",
       "    <tr>\n",
       "      <th>143077</th>\n",
       "      <td>3217416110</td>\n",
       "      <td>7</td>\n",
       "      <td>2017-03-16 23:58:00</td>\n",
       "      <td>m</td>\n",
       "      <td>2017-03-17</td>\n",
       "    </tr>\n",
       "    <tr>\n",
       "      <th>160106</th>\n",
       "      <td>3217796830</td>\n",
       "      <td>7</td>\n",
       "      <td>2017-03-18 23:59:00</td>\n",
       "      <td>m</td>\n",
       "      <td>2017-03-19</td>\n",
       "    </tr>\n",
       "    <tr>\n",
       "      <th>316622</th>\n",
       "      <td>3218939019</td>\n",
       "      <td>7</td>\n",
       "      <td>2017-03-24 23:56:00</td>\n",
       "      <td>f</td>\n",
       "      <td>2017-03-25</td>\n",
       "    </tr>\n",
       "    <tr>\n",
       "      <th>316623</th>\n",
       "      <td>3218939019</td>\n",
       "      <td>7</td>\n",
       "      <td>2017-03-24 23:56:00</td>\n",
       "      <td>f</td>\n",
       "      <td>2017-03-25</td>\n",
       "    </tr>\n",
       "    <tr>\n",
       "      <th>316631</th>\n",
       "      <td>3218939043</td>\n",
       "      <td>6</td>\n",
       "      <td>2017-03-24 23:58:00</td>\n",
       "      <td>m</td>\n",
       "      <td>2017-03-25</td>\n",
       "    </tr>\n",
       "    <tr>\n",
       "      <th>375878</th>\n",
       "      <td>3218749463</td>\n",
       "      <td>7</td>\n",
       "      <td>2017-03-23 23:55:00</td>\n",
       "      <td>f</td>\n",
       "      <td>2017-03-24</td>\n",
       "    </tr>\n",
       "    <tr>\n",
       "      <th>375879</th>\n",
       "      <td>3218749463</td>\n",
       "      <td>7</td>\n",
       "      <td>2017-03-23 23:55:00</td>\n",
       "      <td>f</td>\n",
       "      <td>2017-03-24</td>\n",
       "    </tr>\n",
       "    <tr>\n",
       "      <th>375880</th>\n",
       "      <td>3218749463</td>\n",
       "      <td>7</td>\n",
       "      <td>2017-03-23 23:55:00</td>\n",
       "      <td>f</td>\n",
       "      <td>2017-03-24</td>\n",
       "    </tr>\n",
       "    <tr>\n",
       "      <th>470779</th>\n",
       "      <td>3216840863</td>\n",
       "      <td>7</td>\n",
       "      <td>2017-03-13 23:56:00</td>\n",
       "      <td>f</td>\n",
       "      <td>2017-03-14</td>\n",
       "    </tr>\n",
       "    <tr>\n",
       "      <th>517012</th>\n",
       "      <td>3217416110</td>\n",
       "      <td>7</td>\n",
       "      <td>2017-03-16 23:59:00</td>\n",
       "      <td>m</td>\n",
       "      <td>2017-03-17</td>\n",
       "    </tr>\n",
       "    <tr>\n",
       "      <th>517020</th>\n",
       "      <td>3217416110</td>\n",
       "      <td>7</td>\n",
       "      <td>2017-03-16 23:59:00</td>\n",
       "      <td>m</td>\n",
       "      <td>2017-03-17</td>\n",
       "    </tr>\n",
       "    <tr>\n",
       "      <th>517029</th>\n",
       "      <td>3217416110</td>\n",
       "      <td>7</td>\n",
       "      <td>2017-03-16 23:58:00</td>\n",
       "      <td>m</td>\n",
       "      <td>2017-03-17</td>\n",
       "    </tr>\n",
       "    <tr>\n",
       "      <th>517031</th>\n",
       "      <td>3217416110</td>\n",
       "      <td>7</td>\n",
       "      <td>2017-03-16 23:58:00</td>\n",
       "      <td>m</td>\n",
       "      <td>2017-03-17</td>\n",
       "    </tr>\n",
       "    <tr>\n",
       "      <th>520676</th>\n",
       "      <td>3217796830</td>\n",
       "      <td>7</td>\n",
       "      <td>2017-03-18 23:59:00</td>\n",
       "      <td>m</td>\n",
       "      <td>2017-03-19</td>\n",
       "    </tr>\n",
       "    <tr>\n",
       "      <th>520677</th>\n",
       "      <td>3217796830</td>\n",
       "      <td>7</td>\n",
       "      <td>2017-03-18 23:59:00</td>\n",
       "      <td>m</td>\n",
       "      <td>2017-03-19</td>\n",
       "    </tr>\n",
       "    <tr>\n",
       "      <th>520678</th>\n",
       "      <td>3217796830</td>\n",
       "      <td>7</td>\n",
       "      <td>2017-03-18 23:59:00</td>\n",
       "      <td>m</td>\n",
       "      <td>2017-03-19</td>\n",
       "    </tr>\n",
       "    <tr>\n",
       "      <th>520680</th>\n",
       "      <td>3217796830</td>\n",
       "      <td>7</td>\n",
       "      <td>2017-03-18 23:59:00</td>\n",
       "      <td>m</td>\n",
       "      <td>2017-03-19</td>\n",
       "    </tr>\n",
       "    <tr>\n",
       "      <th>668588</th>\n",
       "      <td>3218939019</td>\n",
       "      <td>7</td>\n",
       "      <td>2017-03-24 23:56:00</td>\n",
       "      <td>f</td>\n",
       "      <td>2017-03-25</td>\n",
       "    </tr>\n",
       "    <tr>\n",
       "      <th>668589</th>\n",
       "      <td>3218939019</td>\n",
       "      <td>7</td>\n",
       "      <td>2017-03-24 23:55:00</td>\n",
       "      <td>f</td>\n",
       "      <td>2017-03-25</td>\n",
       "    </tr>\n",
       "    <tr>\n",
       "      <th>668590</th>\n",
       "      <td>3218939019</td>\n",
       "      <td>7</td>\n",
       "      <td>2017-03-24 23:55:00</td>\n",
       "      <td>f</td>\n",
       "      <td>2017-03-25</td>\n",
       "    </tr>\n",
       "    <tr>\n",
       "      <th>728757</th>\n",
       "      <td>3218749463</td>\n",
       "      <td>7</td>\n",
       "      <td>2017-03-23 23:55:00</td>\n",
       "      <td>f</td>\n",
       "      <td>2017-03-24</td>\n",
       "    </tr>\n",
       "    <tr>\n",
       "      <th>728758</th>\n",
       "      <td>3218749463</td>\n",
       "      <td>7</td>\n",
       "      <td>2017-03-23 23:55:00</td>\n",
       "      <td>f</td>\n",
       "      <td>2017-03-24</td>\n",
       "    </tr>\n",
       "  </tbody>\n",
       "</table>\n",
       "</div>"
      ],
      "text/plain": [
       "         sender_id  platform_id          time_stamp gender    reg_date\n",
       "102670  3216840863            7 2017-03-13 23:56:00      f  2017-03-14\n",
       "102671  3216840863            7 2017-03-13 23:56:00      f  2017-03-14\n",
       "102672  3216840863            7 2017-03-13 23:56:00      f  2017-03-14\n",
       "102673  3216840863            7 2017-03-13 23:55:00      f  2017-03-14\n",
       "143056  3217416110            7 2017-03-16 23:59:00      m  2017-03-17\n",
       "143063  3217416110            7 2017-03-16 23:58:00      m  2017-03-17\n",
       "143073  3217416110            7 2017-03-16 23:59:00      m  2017-03-17\n",
       "143077  3217416110            7 2017-03-16 23:58:00      m  2017-03-17\n",
       "160106  3217796830            7 2017-03-18 23:59:00      m  2017-03-19\n",
       "316622  3218939019            7 2017-03-24 23:56:00      f  2017-03-25\n",
       "316623  3218939019            7 2017-03-24 23:56:00      f  2017-03-25\n",
       "316631  3218939043            6 2017-03-24 23:58:00      m  2017-03-25\n",
       "375878  3218749463            7 2017-03-23 23:55:00      f  2017-03-24\n",
       "375879  3218749463            7 2017-03-23 23:55:00      f  2017-03-24\n",
       "375880  3218749463            7 2017-03-23 23:55:00      f  2017-03-24\n",
       "470779  3216840863            7 2017-03-13 23:56:00      f  2017-03-14\n",
       "517012  3217416110            7 2017-03-16 23:59:00      m  2017-03-17\n",
       "517020  3217416110            7 2017-03-16 23:59:00      m  2017-03-17\n",
       "517029  3217416110            7 2017-03-16 23:58:00      m  2017-03-17\n",
       "517031  3217416110            7 2017-03-16 23:58:00      m  2017-03-17\n",
       "520676  3217796830            7 2017-03-18 23:59:00      m  2017-03-19\n",
       "520677  3217796830            7 2017-03-18 23:59:00      m  2017-03-19\n",
       "520678  3217796830            7 2017-03-18 23:59:00      m  2017-03-19\n",
       "520680  3217796830            7 2017-03-18 23:59:00      m  2017-03-19\n",
       "668588  3218939019            7 2017-03-24 23:56:00      f  2017-03-25\n",
       "668589  3218939019            7 2017-03-24 23:55:00      f  2017-03-25\n",
       "668590  3218939019            7 2017-03-24 23:55:00      f  2017-03-25\n",
       "728757  3218749463            7 2017-03-23 23:55:00      f  2017-03-24\n",
       "728758  3218749463            7 2017-03-23 23:55:00      f  2017-03-24"
      ]
     },
     "execution_count": 11,
     "metadata": {},
     "output_type": "execute_result"
    }
   ],
   "source": [
    "data[data['time_stamp'] < data['reg_date']]"
   ]
  },
  {
   "cell_type": "markdown",
   "id": "fc8001b0-3c3f-4e09-83bd-e669cc6fd8e4",
   "metadata": {},
   "source": [
    "У датасеті є рядки, у яких time_stamp раніше reg_date.  \n",
    "В усіх випадках time_stamp знаходиться в межах останніх 5 хвилин доби, яка передує дню реєстрації.  \n",
    "Оскільки в цьому може бути логіка (наприклад, налаштування системи), а також враховуючи незначну кількість таких випадків, ми не будемо вносити зміни в датасет. "
   ]
  },
  {
   "cell_type": "markdown",
   "id": "13732fc7-8241-4c2f-9cad-49c78a2483e7",
   "metadata": {},
   "source": [
    "### Класифікація даних на 2 категорії: дані, зібрані до АВ-тесту, і дані, зібрані під час АВ-тесту"
   ]
  },
  {
   "cell_type": "code",
   "execution_count": 12,
   "id": "c562d78e-03ac-4c1b-b1c1-8b04335613a2",
   "metadata": {},
   "outputs": [
    {
     "data": {
      "text/html": [
       "<div>\n",
       "<style scoped>\n",
       "    .dataframe tbody tr th:only-of-type {\n",
       "        vertical-align: middle;\n",
       "    }\n",
       "\n",
       "    .dataframe tbody tr th {\n",
       "        vertical-align: top;\n",
       "    }\n",
       "\n",
       "    .dataframe thead th {\n",
       "        text-align: right;\n",
       "    }\n",
       "</style>\n",
       "<table border=\"1\" class=\"dataframe\">\n",
       "  <thead>\n",
       "    <tr style=\"text-align: right;\">\n",
       "      <th></th>\n",
       "      <th>sender_id</th>\n",
       "      <th>platform_id</th>\n",
       "      <th>time_stamp</th>\n",
       "      <th>gender</th>\n",
       "      <th>reg_date</th>\n",
       "      <th>event_type</th>\n",
       "    </tr>\n",
       "  </thead>\n",
       "  <tbody>\n",
       "    <tr>\n",
       "      <th>0</th>\n",
       "      <td>3207526951</td>\n",
       "      <td>6</td>\n",
       "      <td>2017-03-16 13:35:00</td>\n",
       "      <td>m</td>\n",
       "      <td>2017-01-26</td>\n",
       "      <td>before_test</td>\n",
       "    </tr>\n",
       "    <tr>\n",
       "      <th>1</th>\n",
       "      <td>3207526951</td>\n",
       "      <td>6</td>\n",
       "      <td>2017-03-16 09:09:00</td>\n",
       "      <td>m</td>\n",
       "      <td>2017-01-26</td>\n",
       "      <td>before_test</td>\n",
       "    </tr>\n",
       "    <tr>\n",
       "      <th>2</th>\n",
       "      <td>3207526951</td>\n",
       "      <td>6</td>\n",
       "      <td>2017-03-16 09:09:00</td>\n",
       "      <td>m</td>\n",
       "      <td>2017-01-26</td>\n",
       "      <td>before_test</td>\n",
       "    </tr>\n",
       "    <tr>\n",
       "      <th>3</th>\n",
       "      <td>3207526951</td>\n",
       "      <td>6</td>\n",
       "      <td>2017-03-16 12:13:00</td>\n",
       "      <td>m</td>\n",
       "      <td>2017-01-26</td>\n",
       "      <td>before_test</td>\n",
       "    </tr>\n",
       "    <tr>\n",
       "      <th>4</th>\n",
       "      <td>3207526951</td>\n",
       "      <td>6</td>\n",
       "      <td>2017-03-15 14:01:00</td>\n",
       "      <td>m</td>\n",
       "      <td>2017-01-26</td>\n",
       "      <td>before_test</td>\n",
       "    </tr>\n",
       "    <tr>\n",
       "      <th>...</th>\n",
       "      <td>...</td>\n",
       "      <td>...</td>\n",
       "      <td>...</td>\n",
       "      <td>...</td>\n",
       "      <td>...</td>\n",
       "      <td>...</td>\n",
       "    </tr>\n",
       "    <tr>\n",
       "      <th>599995</th>\n",
       "      <td>3208565937</td>\n",
       "      <td>6</td>\n",
       "      <td>2017-03-26 11:10:00</td>\n",
       "      <td>f</td>\n",
       "      <td>2017-01-31</td>\n",
       "      <td>test</td>\n",
       "    </tr>\n",
       "    <tr>\n",
       "      <th>599996</th>\n",
       "      <td>3208576331</td>\n",
       "      <td>7</td>\n",
       "      <td>2017-03-26 12:07:00</td>\n",
       "      <td>f</td>\n",
       "      <td>2017-01-31</td>\n",
       "      <td>test</td>\n",
       "    </tr>\n",
       "    <tr>\n",
       "      <th>599997</th>\n",
       "      <td>3208578098</td>\n",
       "      <td>6</td>\n",
       "      <td>2017-03-26 12:50:00</td>\n",
       "      <td>m</td>\n",
       "      <td>2017-01-31</td>\n",
       "      <td>test</td>\n",
       "    </tr>\n",
       "    <tr>\n",
       "      <th>599998</th>\n",
       "      <td>3208578098</td>\n",
       "      <td>6</td>\n",
       "      <td>2017-03-26 12:51:00</td>\n",
       "      <td>m</td>\n",
       "      <td>2017-01-31</td>\n",
       "      <td>test</td>\n",
       "    </tr>\n",
       "    <tr>\n",
       "      <th>599999</th>\n",
       "      <td>3208578098</td>\n",
       "      <td>6</td>\n",
       "      <td>2017-03-26 12:50:00</td>\n",
       "      <td>m</td>\n",
       "      <td>2017-01-31</td>\n",
       "      <td>test</td>\n",
       "    </tr>\n",
       "  </tbody>\n",
       "</table>\n",
       "<p>600000 rows × 6 columns</p>\n",
       "</div>"
      ],
      "text/plain": [
       "         sender_id  platform_id          time_stamp gender    reg_date  \\\n",
       "0       3207526951            6 2017-03-16 13:35:00      m  2017-01-26   \n",
       "1       3207526951            6 2017-03-16 09:09:00      m  2017-01-26   \n",
       "2       3207526951            6 2017-03-16 09:09:00      m  2017-01-26   \n",
       "3       3207526951            6 2017-03-16 12:13:00      m  2017-01-26   \n",
       "4       3207526951            6 2017-03-15 14:01:00      m  2017-01-26   \n",
       "...            ...          ...                 ...    ...         ...   \n",
       "599995  3208565937            6 2017-03-26 11:10:00      f  2017-01-31   \n",
       "599996  3208576331            7 2017-03-26 12:07:00      f  2017-01-31   \n",
       "599997  3208578098            6 2017-03-26 12:50:00      m  2017-01-31   \n",
       "599998  3208578098            6 2017-03-26 12:51:00      m  2017-01-31   \n",
       "599999  3208578098            6 2017-03-26 12:50:00      m  2017-01-31   \n",
       "\n",
       "         event_type  \n",
       "0       before_test  \n",
       "1       before_test  \n",
       "2       before_test  \n",
       "3       before_test  \n",
       "4       before_test  \n",
       "...             ...  \n",
       "599995         test  \n",
       "599996         test  \n",
       "599997         test  \n",
       "599998         test  \n",
       "599999         test  \n",
       "\n",
       "[600000 rows x 6 columns]"
      ]
     },
     "execution_count": 12,
     "metadata": {},
     "output_type": "execute_result"
    }
   ],
   "source": [
    "data['event_type'] = np.where(data['time_stamp'] < pd.Timestamp('2017-03-24 16:00:00'), 'before_test', 'test')\n",
    "data.head(600000)"
   ]
  },
  {
   "cell_type": "markdown",
   "id": "22dd186d-ec08-496f-a36d-a6beb807b205",
   "metadata": {},
   "source": [
    "### Класифікація користувачів на контрольну (control) і тестову (treatment) групи:"
   ]
  },
  {
   "cell_type": "code",
   "execution_count": 13,
   "id": "6315de18-cb55-43a1-9176-dcf308f884e4",
   "metadata": {
    "scrolled": true
   },
   "outputs": [
    {
     "data": {
      "text/html": [
       "<div>\n",
       "<style scoped>\n",
       "    .dataframe tbody tr th:only-of-type {\n",
       "        vertical-align: middle;\n",
       "    }\n",
       "\n",
       "    .dataframe tbody tr th {\n",
       "        vertical-align: top;\n",
       "    }\n",
       "\n",
       "    .dataframe thead th {\n",
       "        text-align: right;\n",
       "    }\n",
       "</style>\n",
       "<table border=\"1\" class=\"dataframe\">\n",
       "  <thead>\n",
       "    <tr style=\"text-align: right;\">\n",
       "      <th></th>\n",
       "      <th>sender_id</th>\n",
       "      <th>platform_id</th>\n",
       "      <th>time_stamp</th>\n",
       "      <th>gender</th>\n",
       "      <th>reg_date</th>\n",
       "      <th>event_type</th>\n",
       "      <th>group</th>\n",
       "    </tr>\n",
       "  </thead>\n",
       "  <tbody>\n",
       "    <tr>\n",
       "      <th>0</th>\n",
       "      <td>3207526951</td>\n",
       "      <td>6</td>\n",
       "      <td>2017-03-16 13:35:00</td>\n",
       "      <td>m</td>\n",
       "      <td>2017-01-26</td>\n",
       "      <td>before_test</td>\n",
       "      <td>na</td>\n",
       "    </tr>\n",
       "    <tr>\n",
       "      <th>1</th>\n",
       "      <td>3207526951</td>\n",
       "      <td>6</td>\n",
       "      <td>2017-03-16 09:09:00</td>\n",
       "      <td>m</td>\n",
       "      <td>2017-01-26</td>\n",
       "      <td>before_test</td>\n",
       "      <td>na</td>\n",
       "    </tr>\n",
       "    <tr>\n",
       "      <th>2</th>\n",
       "      <td>3207526951</td>\n",
       "      <td>6</td>\n",
       "      <td>2017-03-16 09:09:00</td>\n",
       "      <td>m</td>\n",
       "      <td>2017-01-26</td>\n",
       "      <td>before_test</td>\n",
       "      <td>na</td>\n",
       "    </tr>\n",
       "    <tr>\n",
       "      <th>3</th>\n",
       "      <td>3207526951</td>\n",
       "      <td>6</td>\n",
       "      <td>2017-03-16 12:13:00</td>\n",
       "      <td>m</td>\n",
       "      <td>2017-01-26</td>\n",
       "      <td>before_test</td>\n",
       "      <td>na</td>\n",
       "    </tr>\n",
       "    <tr>\n",
       "      <th>4</th>\n",
       "      <td>3207526951</td>\n",
       "      <td>6</td>\n",
       "      <td>2017-03-15 14:01:00</td>\n",
       "      <td>m</td>\n",
       "      <td>2017-01-26</td>\n",
       "      <td>before_test</td>\n",
       "      <td>na</td>\n",
       "    </tr>\n",
       "    <tr>\n",
       "      <th>...</th>\n",
       "      <td>...</td>\n",
       "      <td>...</td>\n",
       "      <td>...</td>\n",
       "      <td>...</td>\n",
       "      <td>...</td>\n",
       "      <td>...</td>\n",
       "      <td>...</td>\n",
       "    </tr>\n",
       "    <tr>\n",
       "      <th>599995</th>\n",
       "      <td>3208565937</td>\n",
       "      <td>6</td>\n",
       "      <td>2017-03-26 11:10:00</td>\n",
       "      <td>f</td>\n",
       "      <td>2017-01-31</td>\n",
       "      <td>test</td>\n",
       "      <td>treatment</td>\n",
       "    </tr>\n",
       "    <tr>\n",
       "      <th>599996</th>\n",
       "      <td>3208576331</td>\n",
       "      <td>7</td>\n",
       "      <td>2017-03-26 12:07:00</td>\n",
       "      <td>f</td>\n",
       "      <td>2017-01-31</td>\n",
       "      <td>test</td>\n",
       "      <td>treatment</td>\n",
       "    </tr>\n",
       "    <tr>\n",
       "      <th>599997</th>\n",
       "      <td>3208578098</td>\n",
       "      <td>6</td>\n",
       "      <td>2017-03-26 12:50:00</td>\n",
       "      <td>m</td>\n",
       "      <td>2017-01-31</td>\n",
       "      <td>test</td>\n",
       "      <td>control</td>\n",
       "    </tr>\n",
       "    <tr>\n",
       "      <th>599998</th>\n",
       "      <td>3208578098</td>\n",
       "      <td>6</td>\n",
       "      <td>2017-03-26 12:51:00</td>\n",
       "      <td>m</td>\n",
       "      <td>2017-01-31</td>\n",
       "      <td>test</td>\n",
       "      <td>control</td>\n",
       "    </tr>\n",
       "    <tr>\n",
       "      <th>599999</th>\n",
       "      <td>3208578098</td>\n",
       "      <td>6</td>\n",
       "      <td>2017-03-26 12:50:00</td>\n",
       "      <td>m</td>\n",
       "      <td>2017-01-31</td>\n",
       "      <td>test</td>\n",
       "      <td>control</td>\n",
       "    </tr>\n",
       "  </tbody>\n",
       "</table>\n",
       "<p>600000 rows × 7 columns</p>\n",
       "</div>"
      ],
      "text/plain": [
       "         sender_id  platform_id          time_stamp gender    reg_date  \\\n",
       "0       3207526951            6 2017-03-16 13:35:00      m  2017-01-26   \n",
       "1       3207526951            6 2017-03-16 09:09:00      m  2017-01-26   \n",
       "2       3207526951            6 2017-03-16 09:09:00      m  2017-01-26   \n",
       "3       3207526951            6 2017-03-16 12:13:00      m  2017-01-26   \n",
       "4       3207526951            6 2017-03-15 14:01:00      m  2017-01-26   \n",
       "...            ...          ...                 ...    ...         ...   \n",
       "599995  3208565937            6 2017-03-26 11:10:00      f  2017-01-31   \n",
       "599996  3208576331            7 2017-03-26 12:07:00      f  2017-01-31   \n",
       "599997  3208578098            6 2017-03-26 12:50:00      m  2017-01-31   \n",
       "599998  3208578098            6 2017-03-26 12:51:00      m  2017-01-31   \n",
       "599999  3208578098            6 2017-03-26 12:50:00      m  2017-01-31   \n",
       "\n",
       "         event_type      group  \n",
       "0       before_test         na  \n",
       "1       before_test         na  \n",
       "2       before_test         na  \n",
       "3       before_test         na  \n",
       "4       before_test         na  \n",
       "...             ...        ...  \n",
       "599995         test  treatment  \n",
       "599996         test  treatment  \n",
       "599997         test    control  \n",
       "599998         test    control  \n",
       "599999         test    control  \n",
       "\n",
       "[600000 rows x 7 columns]"
      ]
     },
     "execution_count": 13,
     "metadata": {},
     "output_type": "execute_result"
    }
   ],
   "source": [
    "conditions = [\n",
    "    ((data['event_type'] == 'test') & (data['sender_id'] % 2 == 0)),\n",
    "    ((data['event_type'] == 'test') & (data['sender_id'] % 2 != 0)),\n",
    "    (data['event_type'] == 'before_test')\n",
    "]\n",
    "choices = ['control', 'treatment', 'na'] # na (not applicable) - події до запуску АВ-тесту\n",
    "data['group'] = np.select(conditions, choices)\n",
    "data.head(600000)"
   ]
  },
  {
   "cell_type": "markdown",
   "id": "a468b073-c85a-4813-a4b8-147cfa0f730a",
   "metadata": {},
   "source": [
    "### Створення двох окремих датасетів для подій до запуску АВ-тесту і після запуску"
   ]
  },
  {
   "cell_type": "code",
   "execution_count": 14,
   "id": "5c444ce4-5bab-472f-a898-2755d51ee5b1",
   "metadata": {},
   "outputs": [
    {
     "data": {
      "text/html": [
       "<div>\n",
       "<style scoped>\n",
       "    .dataframe tbody tr th:only-of-type {\n",
       "        vertical-align: middle;\n",
       "    }\n",
       "\n",
       "    .dataframe tbody tr th {\n",
       "        vertical-align: top;\n",
       "    }\n",
       "\n",
       "    .dataframe thead th {\n",
       "        text-align: right;\n",
       "    }\n",
       "</style>\n",
       "<table border=\"1\" class=\"dataframe\">\n",
       "  <thead>\n",
       "    <tr style=\"text-align: right;\">\n",
       "      <th></th>\n",
       "      <th>sender_id</th>\n",
       "      <th>platform_id</th>\n",
       "      <th>time_stamp</th>\n",
       "      <th>gender</th>\n",
       "      <th>reg_date</th>\n",
       "      <th>event_type</th>\n",
       "      <th>group</th>\n",
       "    </tr>\n",
       "  </thead>\n",
       "  <tbody>\n",
       "    <tr>\n",
       "      <th>0</th>\n",
       "      <td>3207526951</td>\n",
       "      <td>6</td>\n",
       "      <td>2017-03-16 13:35:00</td>\n",
       "      <td>m</td>\n",
       "      <td>2017-01-26</td>\n",
       "      <td>before_test</td>\n",
       "      <td>na</td>\n",
       "    </tr>\n",
       "    <tr>\n",
       "      <th>1</th>\n",
       "      <td>3207526951</td>\n",
       "      <td>6</td>\n",
       "      <td>2017-03-16 09:09:00</td>\n",
       "      <td>m</td>\n",
       "      <td>2017-01-26</td>\n",
       "      <td>before_test</td>\n",
       "      <td>na</td>\n",
       "    </tr>\n",
       "    <tr>\n",
       "      <th>2</th>\n",
       "      <td>3207526951</td>\n",
       "      <td>6</td>\n",
       "      <td>2017-03-16 09:09:00</td>\n",
       "      <td>m</td>\n",
       "      <td>2017-01-26</td>\n",
       "      <td>before_test</td>\n",
       "      <td>na</td>\n",
       "    </tr>\n",
       "    <tr>\n",
       "      <th>3</th>\n",
       "      <td>3207526951</td>\n",
       "      <td>6</td>\n",
       "      <td>2017-03-16 12:13:00</td>\n",
       "      <td>m</td>\n",
       "      <td>2017-01-26</td>\n",
       "      <td>before_test</td>\n",
       "      <td>na</td>\n",
       "    </tr>\n",
       "    <tr>\n",
       "      <th>4</th>\n",
       "      <td>3207526951</td>\n",
       "      <td>6</td>\n",
       "      <td>2017-03-15 14:01:00</td>\n",
       "      <td>m</td>\n",
       "      <td>2017-01-26</td>\n",
       "      <td>before_test</td>\n",
       "      <td>na</td>\n",
       "    </tr>\n",
       "    <tr>\n",
       "      <th>...</th>\n",
       "      <td>...</td>\n",
       "      <td>...</td>\n",
       "      <td>...</td>\n",
       "      <td>...</td>\n",
       "      <td>...</td>\n",
       "      <td>...</td>\n",
       "      <td>...</td>\n",
       "    </tr>\n",
       "    <tr>\n",
       "      <th>768434</th>\n",
       "      <td>3208782485</td>\n",
       "      <td>6</td>\n",
       "      <td>2017-03-23 01:11:00</td>\n",
       "      <td>m</td>\n",
       "      <td>2017-02-01</td>\n",
       "      <td>before_test</td>\n",
       "      <td>na</td>\n",
       "    </tr>\n",
       "    <tr>\n",
       "      <th>768435</th>\n",
       "      <td>3208782485</td>\n",
       "      <td>6</td>\n",
       "      <td>2017-03-23 01:11:00</td>\n",
       "      <td>m</td>\n",
       "      <td>2017-02-01</td>\n",
       "      <td>before_test</td>\n",
       "      <td>na</td>\n",
       "    </tr>\n",
       "    <tr>\n",
       "      <th>768436</th>\n",
       "      <td>3208782485</td>\n",
       "      <td>6</td>\n",
       "      <td>2017-03-23 01:10:00</td>\n",
       "      <td>m</td>\n",
       "      <td>2017-02-01</td>\n",
       "      <td>before_test</td>\n",
       "      <td>na</td>\n",
       "    </tr>\n",
       "    <tr>\n",
       "      <th>768437</th>\n",
       "      <td>3208782485</td>\n",
       "      <td>6</td>\n",
       "      <td>2017-03-23 01:10:00</td>\n",
       "      <td>m</td>\n",
       "      <td>2017-02-01</td>\n",
       "      <td>before_test</td>\n",
       "      <td>na</td>\n",
       "    </tr>\n",
       "    <tr>\n",
       "      <th>768438</th>\n",
       "      <td>3208782485</td>\n",
       "      <td>6</td>\n",
       "      <td>2017-03-23 01:11:00</td>\n",
       "      <td>m</td>\n",
       "      <td>2017-02-01</td>\n",
       "      <td>before_test</td>\n",
       "      <td>na</td>\n",
       "    </tr>\n",
       "  </tbody>\n",
       "</table>\n",
       "<p>660847 rows × 7 columns</p>\n",
       "</div>"
      ],
      "text/plain": [
       "         sender_id  platform_id          time_stamp gender    reg_date  \\\n",
       "0       3207526951            6 2017-03-16 13:35:00      m  2017-01-26   \n",
       "1       3207526951            6 2017-03-16 09:09:00      m  2017-01-26   \n",
       "2       3207526951            6 2017-03-16 09:09:00      m  2017-01-26   \n",
       "3       3207526951            6 2017-03-16 12:13:00      m  2017-01-26   \n",
       "4       3207526951            6 2017-03-15 14:01:00      m  2017-01-26   \n",
       "...            ...          ...                 ...    ...         ...   \n",
       "768434  3208782485            6 2017-03-23 01:11:00      m  2017-02-01   \n",
       "768435  3208782485            6 2017-03-23 01:11:00      m  2017-02-01   \n",
       "768436  3208782485            6 2017-03-23 01:10:00      m  2017-02-01   \n",
       "768437  3208782485            6 2017-03-23 01:10:00      m  2017-02-01   \n",
       "768438  3208782485            6 2017-03-23 01:11:00      m  2017-02-01   \n",
       "\n",
       "         event_type group  \n",
       "0       before_test    na  \n",
       "1       before_test    na  \n",
       "2       before_test    na  \n",
       "3       before_test    na  \n",
       "4       before_test    na  \n",
       "...             ...   ...  \n",
       "768434  before_test    na  \n",
       "768435  before_test    na  \n",
       "768436  before_test    na  \n",
       "768437  before_test    na  \n",
       "768438  before_test    na  \n",
       "\n",
       "[660847 rows x 7 columns]"
      ]
     },
     "execution_count": 14,
     "metadata": {},
     "output_type": "execute_result"
    }
   ],
   "source": [
    "data_before_test = data[data['event_type'] == 'before_test']\n",
    "data_before_test"
   ]
  },
  {
   "cell_type": "code",
   "execution_count": 15,
   "id": "1b799f45-49ab-4dee-be96-92cceeab6fdb",
   "metadata": {
    "scrolled": true
   },
   "outputs": [
    {
     "data": {
      "text/html": [
       "<div>\n",
       "<style scoped>\n",
       "    .dataframe tbody tr th:only-of-type {\n",
       "        vertical-align: middle;\n",
       "    }\n",
       "\n",
       "    .dataframe tbody tr th {\n",
       "        vertical-align: top;\n",
       "    }\n",
       "\n",
       "    .dataframe thead th {\n",
       "        text-align: right;\n",
       "    }\n",
       "</style>\n",
       "<table border=\"1\" class=\"dataframe\">\n",
       "  <thead>\n",
       "    <tr style=\"text-align: right;\">\n",
       "      <th></th>\n",
       "      <th>sender_id</th>\n",
       "      <th>platform_id</th>\n",
       "      <th>time_stamp</th>\n",
       "      <th>gender</th>\n",
       "      <th>reg_date</th>\n",
       "      <th>event_type</th>\n",
       "      <th>group</th>\n",
       "    </tr>\n",
       "  </thead>\n",
       "  <tbody>\n",
       "    <tr>\n",
       "      <th>150161</th>\n",
       "      <td>3218632174</td>\n",
       "      <td>7</td>\n",
       "      <td>2017-03-26 07:34:00</td>\n",
       "      <td>m</td>\n",
       "      <td>2017-03-23</td>\n",
       "      <td>test</td>\n",
       "      <td>control</td>\n",
       "    </tr>\n",
       "    <tr>\n",
       "      <th>150162</th>\n",
       "      <td>3218635027</td>\n",
       "      <td>7</td>\n",
       "      <td>2017-03-26 06:19:00</td>\n",
       "      <td>m</td>\n",
       "      <td>2017-03-23</td>\n",
       "      <td>test</td>\n",
       "      <td>treatment</td>\n",
       "    </tr>\n",
       "    <tr>\n",
       "      <th>150163</th>\n",
       "      <td>3218635027</td>\n",
       "      <td>7</td>\n",
       "      <td>2017-03-26 06:19:00</td>\n",
       "      <td>m</td>\n",
       "      <td>2017-03-23</td>\n",
       "      <td>test</td>\n",
       "      <td>treatment</td>\n",
       "    </tr>\n",
       "    <tr>\n",
       "      <th>150164</th>\n",
       "      <td>3218635027</td>\n",
       "      <td>7</td>\n",
       "      <td>2017-03-26 06:18:00</td>\n",
       "      <td>m</td>\n",
       "      <td>2017-03-23</td>\n",
       "      <td>test</td>\n",
       "      <td>treatment</td>\n",
       "    </tr>\n",
       "    <tr>\n",
       "      <th>150165</th>\n",
       "      <td>3218635027</td>\n",
       "      <td>7</td>\n",
       "      <td>2017-03-26 06:19:00</td>\n",
       "      <td>m</td>\n",
       "      <td>2017-03-23</td>\n",
       "      <td>test</td>\n",
       "      <td>treatment</td>\n",
       "    </tr>\n",
       "    <tr>\n",
       "      <th>...</th>\n",
       "      <td>...</td>\n",
       "      <td>...</td>\n",
       "      <td>...</td>\n",
       "      <td>...</td>\n",
       "      <td>...</td>\n",
       "      <td>...</td>\n",
       "      <td>...</td>\n",
       "    </tr>\n",
       "    <tr>\n",
       "      <th>729459</th>\n",
       "      <td>3219280750</td>\n",
       "      <td>6</td>\n",
       "      <td>2017-03-26 20:23:00</td>\n",
       "      <td>f</td>\n",
       "      <td>2017-03-26</td>\n",
       "      <td>test</td>\n",
       "      <td>control</td>\n",
       "    </tr>\n",
       "    <tr>\n",
       "      <th>729460</th>\n",
       "      <td>3219280834</td>\n",
       "      <td>7</td>\n",
       "      <td>2017-03-26 20:21:00</td>\n",
       "      <td>f</td>\n",
       "      <td>2017-03-26</td>\n",
       "      <td>test</td>\n",
       "      <td>control</td>\n",
       "    </tr>\n",
       "    <tr>\n",
       "      <th>729461</th>\n",
       "      <td>3219280834</td>\n",
       "      <td>7</td>\n",
       "      <td>2017-03-26 20:27:00</td>\n",
       "      <td>f</td>\n",
       "      <td>2017-03-26</td>\n",
       "      <td>test</td>\n",
       "      <td>control</td>\n",
       "    </tr>\n",
       "    <tr>\n",
       "      <th>729462</th>\n",
       "      <td>3219280834</td>\n",
       "      <td>7</td>\n",
       "      <td>2017-03-26 20:23:00</td>\n",
       "      <td>f</td>\n",
       "      <td>2017-03-26</td>\n",
       "      <td>test</td>\n",
       "      <td>control</td>\n",
       "    </tr>\n",
       "    <tr>\n",
       "      <th>729463</th>\n",
       "      <td>3219282424</td>\n",
       "      <td>6</td>\n",
       "      <td>2017-03-26 20:25:00</td>\n",
       "      <td>f</td>\n",
       "      <td>2017-03-26</td>\n",
       "      <td>test</td>\n",
       "      <td>control</td>\n",
       "    </tr>\n",
       "  </tbody>\n",
       "</table>\n",
       "<p>107592 rows × 7 columns</p>\n",
       "</div>"
      ],
      "text/plain": [
       "         sender_id  platform_id          time_stamp gender    reg_date  \\\n",
       "150161  3218632174            7 2017-03-26 07:34:00      m  2017-03-23   \n",
       "150162  3218635027            7 2017-03-26 06:19:00      m  2017-03-23   \n",
       "150163  3218635027            7 2017-03-26 06:19:00      m  2017-03-23   \n",
       "150164  3218635027            7 2017-03-26 06:18:00      m  2017-03-23   \n",
       "150165  3218635027            7 2017-03-26 06:19:00      m  2017-03-23   \n",
       "...            ...          ...                 ...    ...         ...   \n",
       "729459  3219280750            6 2017-03-26 20:23:00      f  2017-03-26   \n",
       "729460  3219280834            7 2017-03-26 20:21:00      f  2017-03-26   \n",
       "729461  3219280834            7 2017-03-26 20:27:00      f  2017-03-26   \n",
       "729462  3219280834            7 2017-03-26 20:23:00      f  2017-03-26   \n",
       "729463  3219282424            6 2017-03-26 20:25:00      f  2017-03-26   \n",
       "\n",
       "       event_type      group  \n",
       "150161       test    control  \n",
       "150162       test  treatment  \n",
       "150163       test  treatment  \n",
       "150164       test  treatment  \n",
       "150165       test  treatment  \n",
       "...           ...        ...  \n",
       "729459       test    control  \n",
       "729460       test    control  \n",
       "729461       test    control  \n",
       "729462       test    control  \n",
       "729463       test    control  \n",
       "\n",
       "[107592 rows x 7 columns]"
      ]
     },
     "execution_count": 15,
     "metadata": {},
     "output_type": "execute_result"
    }
   ],
   "source": [
    "data_test = data[data['event_type'] == 'test']\n",
    "data_test"
   ]
  },
  {
   "cell_type": "markdown",
   "id": "008a0538-1824-47da-a2e1-8d52fe804088",
   "metadata": {},
   "source": [
    "### "
   ]
  },
  {
   "cell_type": "code",
   "execution_count": null,
   "id": "89548a91-c391-4a1f-96e0-d8dc78303c3b",
   "metadata": {},
   "outputs": [],
   "source": []
  },
  {
   "cell_type": "markdown",
   "id": "e2cc749d-f6ca-4681-a260-77188115a019",
   "metadata": {},
   "source": [
    "# 2. Аналіз результатів АВ-тесту"
   ]
  },
  {
   "cell_type": "markdown",
   "id": "2fb440c3-d1c0-4511-9c4b-3c4782bd8a03",
   "metadata": {},
   "source": [
    "### Вибір ключової метрики і тесту для оцінки статистичної значущості результатів"
   ]
  },
  {
   "cell_type": "markdown",
   "id": "a190d50a-5f7e-4da5-891a-c61cd38a201b",
   "metadata": {},
   "source": [
    "Оскільки гіпотеза полягала в тому, що іконка-галочка має збільшити кількість лайків, то цільовою метрикою є __середня кількість лайків на одного користувача (avg_likes_per_user__).  \n",
    "Для оцінки статистичної значущості результатів АВ-тесту у такому випадку підійде __тест Стьюдента (t-test)__.  \n",
    "Для аналізу потрібно згрупувати дані у розрізі користувача."
   ]
  },
  {
   "cell_type": "code",
   "execution_count": 17,
   "id": "15ad1726-393a-4ef8-b2da-3cb6d783775d",
   "metadata": {
    "scrolled": true
   },
   "outputs": [
    {
     "data": {
      "text/html": [
       "<div>\n",
       "<style scoped>\n",
       "    .dataframe tbody tr th:only-of-type {\n",
       "        vertical-align: middle;\n",
       "    }\n",
       "\n",
       "    .dataframe tbody tr th {\n",
       "        vertical-align: top;\n",
       "    }\n",
       "\n",
       "    .dataframe thead th {\n",
       "        text-align: right;\n",
       "    }\n",
       "</style>\n",
       "<table border=\"1\" class=\"dataframe\">\n",
       "  <thead>\n",
       "    <tr style=\"text-align: right;\">\n",
       "      <th></th>\n",
       "      <th>sender_id</th>\n",
       "      <th>group</th>\n",
       "      <th>likes_count</th>\n",
       "    </tr>\n",
       "  </thead>\n",
       "  <tbody>\n",
       "    <tr>\n",
       "      <th>0</th>\n",
       "      <td>3201946084</td>\n",
       "      <td>control</td>\n",
       "      <td>3</td>\n",
       "    </tr>\n",
       "    <tr>\n",
       "      <th>1</th>\n",
       "      <td>3201948046</td>\n",
       "      <td>control</td>\n",
       "      <td>21</td>\n",
       "    </tr>\n",
       "    <tr>\n",
       "      <th>2</th>\n",
       "      <td>3201948762</td>\n",
       "      <td>control</td>\n",
       "      <td>7</td>\n",
       "    </tr>\n",
       "    <tr>\n",
       "      <th>3</th>\n",
       "      <td>3201960265</td>\n",
       "      <td>treatment</td>\n",
       "      <td>2</td>\n",
       "    </tr>\n",
       "    <tr>\n",
       "      <th>4</th>\n",
       "      <td>3201991474</td>\n",
       "      <td>control</td>\n",
       "      <td>16</td>\n",
       "    </tr>\n",
       "    <tr>\n",
       "      <th>...</th>\n",
       "      <td>...</td>\n",
       "      <td>...</td>\n",
       "      <td>...</td>\n",
       "    </tr>\n",
       "    <tr>\n",
       "      <th>7328</th>\n",
       "      <td>3219308377</td>\n",
       "      <td>treatment</td>\n",
       "      <td>103</td>\n",
       "    </tr>\n",
       "    <tr>\n",
       "      <th>7329</th>\n",
       "      <td>3219308455</td>\n",
       "      <td>treatment</td>\n",
       "      <td>20</td>\n",
       "    </tr>\n",
       "    <tr>\n",
       "      <th>7330</th>\n",
       "      <td>3219309969</td>\n",
       "      <td>treatment</td>\n",
       "      <td>8</td>\n",
       "    </tr>\n",
       "    <tr>\n",
       "      <th>7331</th>\n",
       "      <td>3219310125</td>\n",
       "      <td>treatment</td>\n",
       "      <td>4</td>\n",
       "    </tr>\n",
       "    <tr>\n",
       "      <th>7332</th>\n",
       "      <td>3219310953</td>\n",
       "      <td>treatment</td>\n",
       "      <td>5</td>\n",
       "    </tr>\n",
       "  </tbody>\n",
       "</table>\n",
       "<p>7333 rows × 3 columns</p>\n",
       "</div>"
      ],
      "text/plain": [
       "       sender_id      group  likes_count\n",
       "0     3201946084    control            3\n",
       "1     3201948046    control           21\n",
       "2     3201948762    control            7\n",
       "3     3201960265  treatment            2\n",
       "4     3201991474    control           16\n",
       "...          ...        ...          ...\n",
       "7328  3219308377  treatment          103\n",
       "7329  3219308455  treatment           20\n",
       "7330  3219309969  treatment            8\n",
       "7331  3219310125  treatment            4\n",
       "7332  3219310953  treatment            5\n",
       "\n",
       "[7333 rows x 3 columns]"
      ]
     },
     "execution_count": 17,
     "metadata": {},
     "output_type": "execute_result"
    }
   ],
   "source": [
    "data_by_user = data_test.groupby(['sender_id', 'group']).size().reset_index(name='likes_count')\n",
    "data_by_user"
   ]
  },
  {
   "cell_type": "markdown",
   "id": "9cf95334-451a-48dd-8899-5fea97b103ac",
   "metadata": {},
   "source": [
    "Створюємо списки даних про кількість лайків на користувача для контрольної і тестової групи, які потрібні для тесту Стьюдента:"
   ]
  },
  {
   "cell_type": "code",
   "execution_count": 18,
   "id": "ff6df456-89fa-4d64-b3ea-42995c8b49c9",
   "metadata": {},
   "outputs": [
    {
     "data": {
      "text/plain": [
       "array([ 3, 21,  7, ...,  1,  1,  4], dtype=int64)"
      ]
     },
     "execution_count": 18,
     "metadata": {},
     "output_type": "execute_result"
    }
   ],
   "source": [
    "condition_control = data_by_user['group'] == 'control'\n",
    "array_control = data_by_user.loc[condition_control, 'likes_count'].values\n",
    "array_control"
   ]
  },
  {
   "cell_type": "code",
   "execution_count": 19,
   "id": "a3cc5879-a56d-42ce-9620-542c7862cf3d",
   "metadata": {
    "scrolled": true
   },
   "outputs": [
    {
     "data": {
      "text/plain": [
       "array([2, 1, 1, ..., 8, 4, 5], dtype=int64)"
      ]
     },
     "execution_count": 19,
     "metadata": {},
     "output_type": "execute_result"
    }
   ],
   "source": [
    "condition_treatment = data_by_user['group'] == 'treatment'\n",
    "array_treatment = data_by_user.loc[condition_treatment, 'likes_count'].values\n",
    "array_treatment"
   ]
  },
  {
   "cell_type": "markdown",
   "id": "d4883012-d7e3-47bf-bc8e-f925fa7efde2",
   "metadata": {},
   "source": [
    "### Тест Стьюдента для оцінки статистичної значущості результатів АВ-тестування"
   ]
  },
  {
   "cell_type": "code",
   "execution_count": 126,
   "id": "fd329bd0-14ed-4078-b14d-9a540ebae29d",
   "metadata": {
    "scrolled": true
   },
   "outputs": [
    {
     "name": "stdout",
     "output_type": "stream",
     "text": [
      "Control avg_likes_per_user: 15.47\n",
      "Treatment avg_likes_per_user: 13.85\n",
      "\n",
      "Control standard deviation: 44.78\n",
      "Treatment standard deviation: 26.28\n",
      "\n",
      "p-value: 0.061\n",
      "\n",
      "❌ Різниця НЕ є статистично значущою\n"
     ]
    }
   ],
   "source": [
    "# Дані по контрольній групі\n",
    "control_likes_per_user = np.array(array_control)\n",
    "control_users = len(control_likes_per_user)\n",
    "\n",
    "# Дані по тестовій групі\n",
    "treatment_likes_per_user = np.array(array_treatment)\n",
    "treatment_users = len(treatment_likes_per_user)\n",
    "\n",
    "# Розрахунок середнього значення на стандартного відхилення для кількості лайків на користувача\n",
    "control_mean = np.mean(control_likes_per_user)\n",
    "control_std = np.std(control_likes_per_user, ddof=1) \n",
    "treatment_mean = np.mean(treatment_likes_per_user)\n",
    "treatment_std = np.std(treatment_likes_per_user, ddof=1)\n",
    "\n",
    "# t-test\n",
    "t_statistic, p_value = stats.ttest_ind_from_stats(mean1=control_mean, std1=control_std, nobs1=control_users,\n",
    "                                                  mean2=treatment_mean, std2=treatment_std, nobs2=treatment_users)\n",
    "\n",
    "# Вивести ключову інформацію та висновок щодо статистичної значущості тесту\n",
    "print(f\"Control avg_likes_per_user: {round(control_mean,2)}\")\n",
    "print(f\"Treatment avg_likes_per_user: {round(treatment_mean,2)}\\n\")\n",
    "print(f\"Control standard deviation: {round(control_std,2)}\")\n",
    "print(f\"Treatment standard deviation: {round(treatment_std,2)}\\n\")\n",
    "print(f\"p-value: {round(p_value,3)}\\n\")\n",
    "if p_value <= 0.05:\n",
    "    print(\"✅ Різниця є статистично значущою\")\n",
    "else:\n",
    "    print(\"❌ Різниця НЕ є статистично значущою\")"
   ]
  },
  {
   "cell_type": "markdown",
   "id": "7246d688-781c-4e6d-9577-ed3fd7ac9238",
   "metadata": {},
   "source": [
    "### Візуалізація результатів АВ-тесту"
   ]
  },
  {
   "cell_type": "code",
   "execution_count": 48,
   "id": "ca92f77e-bfba-4926-843d-e837ad1fcacc",
   "metadata": {},
   "outputs": [
    {
     "data": {
      "image/png": "[encoded data removed]",
      "text/plain": [
       "<Figure size 400x400 with 1 Axes>"
      ]
     },
     "metadata": {},
     "output_type": "display_data"
    }
   ],
   "source": [
    "plt.figure(figsize=(4, 4))\n",
    "plt.bar('Control', control_mean, color='blue', label='Control')\n",
    "plt.text('Control', control_mean + 0.1, f'{round(control_mean,2)}', ha='center')\n",
    "plt.bar('Variant', variant_mean, color='orange', label='Variant')\n",
    "plt.text('Variant', variant_mean + 0.1, f'{round(variant_mean,2)}', ha='center')\n",
    "plt.title('AB-test results')\n",
    "plt.ylabel('Average Likes per User')\n",
    "plt.show()"
   ]
  },
  {
   "cell_type": "markdown",
   "id": "9381b168-ffc8-415e-a8a6-e535f74f9b41",
   "metadata": {},
   "source": [
    "### Висновок про статистичну значущість результатів АВ-тесту"
   ]
  },
  {
   "cell_type": "markdown",
   "id": "87c5ad53-c111-4863-84dc-2b5fb0a1761f",
   "metadata": {},
   "source": [
    "Тестова група показує нижчу кількість лайків на одного користувача, ніж контрольна група (13.85 і 15.47, відповідно).  \n",
    "При цьому, __p-value__ становить __0.061__ і це означає, що __різниця НЕ є статистично значущою__ і може бути випадковою.  \n",
    "Тому рекомендація від аналітика - відхилити тестову версію іконки (галочка) і залишити базовий варіант (іконка-сердечко).\n",
    "\n",
    "Альтернативно, проведено тест за допомогою онлайн-калькулятора Евана Міллера. Він показує дещо нижче p-value (0.059), але різниця так само НЕ є статистично значущою:"
   ]
  },
  {
   "cell_type": "markdown",
   "id": "50985362-8dca-4f2d-ac6a-6efcc0b2728f",
   "metadata": {},
   "source": [
    "![Ttest by Evan Miller's online calculator](ttest.png)"
   ]
  },
  {
   "cell_type": "markdown",
   "id": "072de6fc-8bf6-4704-af33-55218f0cfdaa",
   "metadata": {},
   "source": [
    "Для більш повної оцінки результатів АВ-тесту, варто проаналізувати дані у розрізі платформ, гендеру, дати події і когорти (дати реєстрації)"
   ]
  },
  {
   "cell_type": "markdown",
   "id": "95e3d68a-c86a-4005-a2d6-cc8debfebfca",
   "metadata": {},
   "source": [
    "### Результати АВ-тесту у розрізі платформ"
   ]
  },
  {
   "cell_type": "code",
   "execution_count": 101,
   "id": "afec608f-68bd-40dc-adba-23c4fd655e3d",
   "metadata": {},
   "outputs": [
    {
     "name": "stdout",
     "output_type": "stream",
     "text": [
      "       group  platform_id  avg_likes_per_user  total_likes  total_users\n",
      "0    control            6           17.637376        30107         1707\n",
      "1    control            7           13.379193        27521         2057\n",
      "2  treatment            6           16.566505        27401         1654\n",
      "3  treatment            7           11.275862        22563         2001\n"
     ]
    }
   ],
   "source": [
    "data_by_user_platform = data_test.groupby(['sender_id', 'platform_id', 'group']).size().reset_index(name='likes_count')\n",
    "pivot_table = pd.pivot_table(data_by_user_platform, \n",
    "                              index=['group', 'platform_id'], \n",
    "                              values=['sender_id', 'likes_count'], \n",
    "                              aggfunc={'sender_id': 'count', 'likes_count': ['sum', 'mean']})\n",
    "pivot_table.columns = ['avg_likes_per_user', 'total_likes', 'total_users']\n",
    "pivot_table = pivot_table.reset_index()\n",
    "print(pivot_table)"
   ]
  },
  {
   "cell_type": "code",
   "execution_count": 102,
   "id": "539befab-e680-4c1f-a268-d7d53aa42faa",
   "metadata": {},
   "outputs": [
    {
     "data": {
      "image/png": "[encoded data removed]",
      "text/plain": [
       "<Figure size 1000x400 with 2 Axes>"
      ]
     },
     "metadata": {},
     "output_type": "display_data"
    }
   ],
   "source": [
    "platform_6_data = pivot_table[pivot_table['platform_id'] == 6]\n",
    "platform_7_data = pivot_table[pivot_table['platform_id'] == 7]\n",
    "\n",
    "fig, axs = plt.subplots(1, 2, figsize=(10, 4))\n",
    "\n",
    "control_6_data = platform_6_data[platform_6_data['group'] == 'control']\n",
    "treatment_6_data = platform_6_data[platform_6_data['group'] == 'treatment']\n",
    "axs[0].bar(control_6_data['group'], control_6_data['avg_likes_per_user'], color='blue', label='Control')\n",
    "axs[0].bar(treatment_6_data['group'], treatment_6_data['avg_likes_per_user'], color='orange', label='Treatment')\n",
    "axs[0].set_title('Desktop', fontsize=14)\n",
    "axs[0].set_ylabel('Average Likes per User')\n",
    "axs[0].set_ylim(0, max(platform_7_data['avg_likes_per_user'].max(), platform_6_data['avg_likes_per_user'].max()) + 1)\n",
    "\n",
    "control_7_data = platform_7_data[platform_7_data['group'] == 'control']\n",
    "treatment_7_data = platform_7_data[platform_7_data['group'] == 'treatment']\n",
    "axs[1].bar(control_7_data['group'], control_7_data['avg_likes_per_user'], color='blue', label='Control')\n",
    "axs[1].bar(treatment_7_data['group'], treatment_7_data['avg_likes_per_user'], color='orange', label='Treatment')\n",
    "axs[1].set_title('Mobile', fontsize=14)\n",
    "axs[1].set_ylabel('Average Likes per User')\n",
    "axs[1].set_ylim(0, max(platform_7_data['avg_likes_per_user'].max(), platform_6_data['avg_likes_per_user'].max()) + 1)\n",
    "\n",
    "plt.show()"
   ]
  },
  {
   "cell_type": "markdown",
   "id": "20c30936-51f4-402b-b0ed-88d377013e90",
   "metadata": {},
   "source": [
    "Із аналізу видно, що середня кількість лайків на 1 користувача вища у контрольній групі як для десктопу, так і для мобайлу:  \n",
    "- Десктоп: control - 17.64, treatment - 16.57.  \n",
    "- Мобайл: control - 13.38, treatment - 11.28."
   ]
  },
  {
   "cell_type": "markdown",
   "id": "add5c607-83e1-42c2-bd3c-dd97962cf635",
   "metadata": {},
   "source": [
    "### Результати АВ-тесту у розрізі дати"
   ]
  },
  {
   "cell_type": "code",
   "execution_count": 103,
   "id": "133a3124-ea67-4af5-b084-39802ae544f6",
   "metadata": {
    "scrolled": true
   },
   "outputs": [
    {
     "name": "stdout",
     "output_type": "stream",
     "text": [
      "       group  time_stamp  avg_likes_per_user  total_likes  total_users\n",
      "0    control  2017-03-24            9.909989         9028          911\n",
      "1    control  2017-03-25           11.954702        24280         2031\n",
      "2    control  2017-03-26           12.129676        24320         2005\n",
      "3  treatment  2017-03-24            9.784173         8160          834\n",
      "4  treatment  2017-03-25           11.051896        22148         2004\n",
      "5  treatment  2017-03-26           10.550188        19655         1863\n",
      "6  treatment  2017-03-27            1.000000            1            1\n"
     ]
    }
   ],
   "source": [
    "data_by_user_date = data_test.groupby([data_test['sender_id'], data_test['time_stamp'].dt.date, data_test['group']]).size().reset_index(name='likes_count')\n",
    "pivot_table = pd.pivot_table(data_by_user_date, \n",
    "                              index=['group', 'time_stamp'], \n",
    "                              values=['sender_id', 'likes_count'], \n",
    "                              aggfunc={'sender_id': 'count', 'likes_count': ['sum', 'mean']})\n",
    "pivot_table.columns = ['avg_likes_per_user', 'total_likes', 'total_users']\n",
    "pivot_table = pivot_table.reset_index()\n",
    "print(pivot_table)"
   ]
  },
  {
   "cell_type": "code",
   "execution_count": 111,
   "id": "44aa471b-f143-4c47-a583-fdecf3b6d0a3",
   "metadata": {},
   "outputs": [
    {
     "data": {
      "image/png": "[encoded data removed]",
      "text/plain": [
       "<Figure size 1000x600 with 1 Axes>"
      ]
     },
     "metadata": {},
     "output_type": "display_data"
    }
   ],
   "source": [
    "avg_likes_per_user = data_by_user_date.groupby(['time_stamp', 'group'])['likes_count'].mean().unstack()\n",
    "fig, ax = plt.subplots(figsize=(10, 6))\n",
    "dates = avg_likes_per_user.index\n",
    "for i, date in enumerate(dates):\n",
    "    control_likes = avg_likes_per_user.loc[date, 'control']\n",
    "    treatment_likes = avg_likes_per_user.loc[date, 'treatment']\n",
    "    ax.bar(i - 0.2, control_likes, color='blue', width=0.4, label='Control' if i == 0 else '')\n",
    "    ax.bar(i + 0.2, treatment_likes, color='orange', width=0.4, label='Treatment' if i == 0 else '')\n",
    "ax.set_xticks(range(len(dates)))\n",
    "ax.set_xticklabels(dates, rotation=0)\n",
    "ax.set_xlabel('Date')\n",
    "ax.set_ylabel('Average Likes per User')\n",
    "ax.set_title('Average Likes per User by Date and Group')\n",
    "ax.legend(loc='upper right')\n",
    "plt.show()"
   ]
  },
  {
   "cell_type": "markdown",
   "id": "f48222fc-a1d8-45da-99f8-ba47ba37f95a",
   "metadata": {},
   "source": [
    "Із аналізу видно, що контрольна група переважала тестову групу за показником \"середня кількість лайків на 1 юзера\" в усі дні протягом тесту."
   ]
  },
  {
   "cell_type": "markdown",
   "id": "7749af3e-e46c-4fd9-8002-090bc4153221",
   "metadata": {},
   "source": [
    "### Результати АВ-тесту у розрізі гендеру"
   ]
  },
  {
   "cell_type": "code",
   "execution_count": 120,
   "id": "4cb45a9a-3ec2-4636-8c27-274ccfeace8d",
   "metadata": {},
   "outputs": [
    {
     "name": "stdout",
     "output_type": "stream",
     "text": [
      "   index      group gender  avg_likes_per_user  total_likes  total_users\n",
      "0      0    control      f            8.268692         7078          856\n",
      "1      1    control      m           17.613240        50550         2870\n",
      "2      2  treatment      f            8.773300         6966          794\n",
      "3      3  treatment      m           15.288154        42975         2811\n",
      "4      4  treatment     nb           11.500000           23            2\n"
     ]
    }
   ],
   "source": [
    "data_by_user_gender = data_test.groupby(['sender_id', 'gender', 'group']).size().reset_index(name='likes_count')\n",
    "pivot_table_gender = pd.pivot_table(data_by_user_gender, \n",
    "                              index=['group', 'gender'], \n",
    "                              values=['sender_id', 'likes_count'], \n",
    "                              aggfunc={'sender_id': 'count', 'likes_count': ['sum', 'mean']})\n",
    "pivot_table_gender.columns = ['avg_likes_per_user', 'total_likes', 'total_users']\n",
    "pivot_table_gender = pivot_table.reset_index()\n",
    "print(pivot_table_gender)"
   ]
  },
  {
   "cell_type": "code",
   "execution_count": 124,
   "id": "32fe4ff5-b6de-47a7-8aa6-7bcf3b7ccaec",
   "metadata": {},
   "outputs": [
    {
     "data": {
      "image/png": "[encoded data removed]",
      "text/plain": [
       "<Figure size 1000x400 with 2 Axes>"
      ]
     },
     "metadata": {},
     "output_type": "display_data"
    }
   ],
   "source": [
    "m_data = pivot_table_gender[pivot_table_gender['gender'] == 'm']\n",
    "f_data = pivot_table_gender[pivot_table_gender['gender'] == 'f']\n",
    "\n",
    "fig, axs = plt.subplots(1, 2, figsize=(10, 4))\n",
    "\n",
    "control_m_data = m_data[m_data['group'] == 'control']\n",
    "treatment_m_data = m_data[m_data['group'] == 'treatment']\n",
    "axs[0].bar(control_m_data['group'], control_m_data['avg_likes_per_user'], color='blue', label='Control')\n",
    "axs[0].bar(treatment_m_data['group'], treatment_m_data['avg_likes_per_user'], color='orange', label='Treatment')\n",
    "axs[0].set_title('Male', fontsize=14)\n",
    "axs[0].set_ylabel('Average Likes per User')\n",
    "axs[0].set_ylim(0, max(m_data['avg_likes_per_user'].max(), f_data['avg_likes_per_user'].max()) + 1)\n",
    "\n",
    "control_f_data = f_data[f_data['group'] == 'control']\n",
    "treatment_f_data = f_data[f_data['group'] == 'treatment']\n",
    "axs[1].bar(control_f_data['group'], control_f_data['avg_likes_per_user'], color='blue', label='Control')\n",
    "axs[1].bar(treatment_f_data['group'], treatment_f_data['avg_likes_per_user'], color='orange', label='Treatment')\n",
    "axs[1].set_title('Female', fontsize=14)\n",
    "axs[1].set_ylabel('Average Likes per User')\n",
    "axs[1].set_ylim(0, max(m_data['avg_likes_per_user'].max(), f_data['avg_likes_per_user'].max()) + 1)\n",
    "\n",
    "plt.show()"
   ]
  },
  {
   "cell_type": "markdown",
   "id": "807e8b76-cd9e-4950-ba51-ea29034475b6",
   "metadata": {},
   "source": [
    "Оскільки серед жінок тестова група показала вищу кількість лайків, ніж контрольна група, є сенс оцінити статистичну значущість для обох сегментів окремо: жінки та чоловіки"
   ]
  },
  {
   "cell_type": "markdown",
   "id": "f00584c2-ce88-4c56-a7d0-f1637f835ca7",
   "metadata": {},
   "source": [
    "### Тест Стьюдента для оцінки статистичної значущості результатів АВ-тестування - сегмент \"Жінки\""
   ]
  },
  {
   "cell_type": "code",
   "execution_count": 138,
   "id": "b974a55b-d9fb-4a20-9b7e-497b2a0191f1",
   "metadata": {},
   "outputs": [
    {
     "name": "stdout",
     "output_type": "stream",
     "text": [
      "Control avg_likes_per_user: 8.27\n",
      "Variant avg_likes_per_user: 8.77\n",
      "\n",
      "Control standard deviation: 15.81\n",
      "Variant standard deviation: 16.83\n",
      "\n",
      "p-value: 0.53\n",
      "\n",
      "❌ Різниця НЕ є статистично значущою\n"
     ]
    }
   ],
   "source": [
    "condition_control_f = (data_by_user_gender['group'] == 'control') & (data_by_user_gender['gender'] == 'f')\n",
    "array_control_f = data_by_user_gender.loc[condition_control_f, 'likes_count'].values\n",
    "\n",
    "condition_treatment_f = (data_by_user_gender['group'] == 'treatment') & (data_by_user_gender['gender'] == 'f')\n",
    "array_treatment_f = data_by_user_gender.loc[condition_treatment_f, 'likes_count'].values\n",
    "\n",
    "# Дані по контрольній групі\n",
    "control_likes_per_user_f = np.array(array_control_f)\n",
    "control_users_f = len(control_likes_per_user_f)\n",
    "\n",
    "# Дані по тестовій групі\n",
    "treatment_likes_per_user_f = np.array(array_treatment_f)\n",
    "treatment_users_f = len(treatment_likes_per_user_f)\n",
    "\n",
    "# Розрахунок середнього значення на стандартного відхилення для кількості лайків на користувача\n",
    "control_mean_f = np.mean(control_likes_per_user_f)\n",
    "control_std_f = np.std(control_likes_per_user_f, ddof=1) \n",
    "treatment_mean_f = np.mean(treatment_likes_per_user_f)\n",
    "treatment_std_f = np.std(treatment_likes_per_user_f, ddof=1)\n",
    "\n",
    "# t-test\n",
    "t_statistic_f, p_value_f = stats.ttest_ind_from_stats(mean1=control_mean_f, std1=control_std_f, nobs1=control_users_f,\n",
    "                                                  mean2=treatment_mean_f, std2=treatment_std_f, nobs2=treatment_users_f)\n",
    "\n",
    "# Вивести ключову інформацію та висновок щодо статистичної значущості тесту\n",
    "print(f\"Control avg_likes_per_user: {round(control_mean_f,2)}\")\n",
    "print(f\"Variant avg_likes_per_user: {round(treatment_mean_f,2)}\\n\")\n",
    "print(f\"Control standard deviation: {round(control_std_f,2)}\")\n",
    "print(f\"Variant standard deviation: {round(treatment_std_f,2)}\\n\")\n",
    "print(f\"p-value: {round(p_value_f,3)}\\n\")\n",
    "if p_value_f <= 0.05:\n",
    "    print(\"✅ Різниця є статистично значущою\")\n",
    "else:\n",
    "    print(\"❌ Різниця НЕ є статистично значущою\")"
   ]
  },
  {
   "cell_type": "markdown",
   "id": "3de82e93-d56d-48f6-a5f4-26c6033d17ce",
   "metadata": {},
   "source": [
    "### Тест Стьюдента для оцінки статистичної значущості результатів АВ-тестування - сегмент \"Чоловіки\""
   ]
  },
  {
   "cell_type": "code",
   "execution_count": 139,
   "id": "d280b9f3-0b8d-4704-9e68-6ff20d118775",
   "metadata": {},
   "outputs": [
    {
     "name": "stdout",
     "output_type": "stream",
     "text": [
      "Control avg_likes_per_user: 17.61\n",
      "Variant avg_likes_per_user: 15.29\n",
      "\n",
      "Control standard deviation: 50.09\n",
      "Variant standard deviation: 28.23\n",
      "\n",
      "p-value: 0.032\n",
      "\n",
      "✅ Різниця є статистично значущою\n"
     ]
    }
   ],
   "source": [
    "condition_control_m = (data_by_user_gender['group'] == 'control') & (data_by_user_gender['gender'] == 'm')\n",
    "array_control_m = data_by_user_gender.loc[condition_control_m, 'likes_count'].values\n",
    "\n",
    "condition_treatment_m = (data_by_user_gender['group'] == 'treatment') & (data_by_user_gender['gender'] == 'm')\n",
    "array_treatment_m = data_by_user_gender.loc[condition_treatment_m, 'likes_count'].values\n",
    "\n",
    "# Дані по контрольній групі\n",
    "control_likes_per_user_m = np.array(array_control_m)\n",
    "control_users_m = len(control_likes_per_user_m)\n",
    "\n",
    "# Дані по тестовій групі\n",
    "treatment_likes_per_user_m = np.array(array_treatment_m)\n",
    "treatment_users_m = len(treatment_likes_per_user_m)\n",
    "\n",
    "# Розрахунок середнього значення на стандартного відхилення для кількості лайків на користувача\n",
    "control_mean_m = np.mean(control_likes_per_user_m)\n",
    "control_std_m = np.std(control_likes_per_user_m, ddof=1) \n",
    "treatment_mean_m = np.mean(treatment_likes_per_user_m)\n",
    "treatment_std_m = np.std(treatment_likes_per_user_m, ddof=1)\n",
    "\n",
    "# t-test\n",
    "t_statistic_m, p_value_m = stats.ttest_ind_from_stats(mean1=control_mean_m, std1=control_std_m, nobs1=control_users_m,\n",
    "                                                  mean2=treatment_mean_m, std2=treatment_std_m, nobs2=treatment_users_m)\n",
    "\n",
    "# Вивести ключову інформацію та висновок щодо статистичної значущості тесту\n",
    "print(f\"Control avg_likes_per_user: {round(control_mean_m,2)}\")\n",
    "print(f\"Variant avg_likes_per_user: {round(treatment_mean_m,2)}\\n\")\n",
    "print(f\"Control standard deviation: {round(control_std_m,2)}\")\n",
    "print(f\"Variant standard deviation: {round(treatment_std_m,2)}\\n\")\n",
    "print(f\"p-value: {round(p_value_m,3)}\\n\")\n",
    "if p_value_m <= 0.05:\n",
    "    print(\"✅ Різниця є статистично значущою\")\n",
    "else:\n",
    "    print(\"❌ Різниця НЕ є статистично значущою\")"
   ]
  },
  {
   "cell_type": "markdown",
   "id": "f2f522b8-8092-4a73-8bd5-733e73ca92cf",
   "metadata": {},
   "source": [
    "Отже, для жінок різниця в кількості лайків між тестовою та контрольною групами НЕ є значущою, а для чоловіків різниця статистично значуща. При цьому, чоловіки становлять більшу частину аудиторії. Це є додатковим аргументом на користь того, що тестову версію іконки варто відхилити і залишити базовий варіант (іконка-сердечко)."
   ]
  },
  {
   "cell_type": "markdown",
   "id": "794f2ffe-9b38-43b6-9974-51f3d973b410",
   "metadata": {},
   "source": [
    "### Результати АВ-тесту у розрізі когорти (дати реєстрації користувача)"
   ]
  },
  {
   "cell_type": "code",
   "execution_count": 143,
   "id": "48d87395-8073-42b6-bd8a-95b201973397",
   "metadata": {},
   "outputs": [
    {
     "name": "stdout",
     "output_type": "stream",
     "text": [
      "         group    reg_date  avg_likes_per_user  total_likes  total_users\n",
      "0      control  2017-01-01           69.090909         1520           22\n",
      "1      control  2017-01-02           28.640000          716           25\n",
      "2      control  2017-01-03           13.620690          395           29\n",
      "3      control  2017-01-04            5.360000          134           25\n",
      "4      control  2017-01-05           12.785714          358           28\n",
      "..         ...         ...                 ...          ...          ...\n",
      "165  treatment  2017-03-22           12.625000         1010           80\n",
      "166  treatment  2017-03-23           14.506494         1117           77\n",
      "167  treatment  2017-03-24           14.538117         3242          223\n",
      "168  treatment  2017-03-25           13.817949         5389          390\n",
      "169  treatment  2017-03-26           10.579125         3142          297\n",
      "\n",
      "[170 rows x 5 columns]\n"
     ]
    }
   ],
   "source": [
    "data_by_user_cohort = data_test.groupby(['sender_id','reg_date', 'group']).size().reset_index(name='likes_count')\n",
    "pivot_table_cohort = pd.pivot_table(data_by_user_cohort, \n",
    "                              index=['group', 'reg_date'], \n",
    "                              values=['sender_id', 'likes_count'], \n",
    "                              aggfunc={'sender_id': 'count', 'likes_count': ['sum', 'mean']})\n",
    "pivot_table_cohort.columns = ['avg_likes_per_user', 'total_likes', 'total_users']\n",
    "pivot_table_cohort = pivot_table_cohort.reset_index()\n",
    "print(pivot_table_cohort)"
   ]
  },
  {
   "cell_type": "code",
   "execution_count": 153,
   "id": "a88a1438-5c9c-4cc6-811d-b035d9e156d8",
   "metadata": {},
   "outputs": [
    {
     "data": {
      "image/png": "[encoded data removed]",
      "text/plain": [
       "<Figure size 1200x400 with 1 Axes>"
      ]
     },
     "metadata": {},
     "output_type": "display_data"
    }
   ],
   "source": [
    "control_data = pivot_table_cohort[pivot_table_cohort['group'] == 'control']\n",
    "treatment_data = pivot_table_cohort[pivot_table_cohort['group'] == 'treatment']\n",
    "plt.plot(control_data['reg_date'], control_data['avg_likes_per_user'], color='blue', label='Control')\n",
    "plt.plot(treatment_data['reg_date'], treatment_data['avg_likes_per_user'], color='orange', label='Treatment')\n",
    "plt.xlabel('User Registration Date')\n",
    "plt.ylabel('Average Likes per User')\n",
    "plt.title('Average Likes per User by Cohort (user registration date)')\n",
    "plt.xticks(rotation=0)  # Rotate x-axis labels for better readability\n",
    "plt.legend()  # Show legend\n",
    "plt.gcf().set_size_inches(12, 4)\n",
    "plt.show()"
   ]
  },
  {
   "cell_type": "markdown",
   "id": "ca0eceb7-3182-41b7-ad69-54b2ede53d29",
   "metadata": {},
   "source": [
    "Користувачі контрольної групи, які зареєструвалися 2017-01-01 і 2017-01-11, показують екстремально високу кількість лайків.  \n",
    "У рамках даного аналізу, немає змоги проаналізувати природу такої активності, однак навіть якщо ці 2 когорти виключити як потенційні аномалії, кількість лайків у контрольній групі всерівно буде вищою за тестову групу. Тому це не впливає на раніше зроблені висновки."
   ]
  },
  {
   "cell_type": "code",
   "execution_count": 163,
   "id": "33bc32f2-c766-469a-948c-1dc8ee70c03e",
   "metadata": {},
   "outputs": [
    {
     "name": "stdout",
     "output_type": "stream",
     "text": [
      "Average likes count for Control group: 14.58\n",
      "Average likes count for Treatment group: 13.89\n"
     ]
    }
   ],
   "source": [
    "data_by_user_cohort['reg_date'] = pd.to_datetime(data_by_user_cohort['reg_date'])\n",
    "control_avg_likes = data_by_user_cohort[(data_by_user_cohort['group'] == 'control') & \n",
    "                                         (~data_by_user_cohort['reg_date'].isin(['2017-01-01', '2017-01-11']))]['likes_count'].mean()\n",
    "treatment_avg_likes = data_by_user_cohort[(data_by_user_cohort['group'] == 'treatment') &\n",
    "                                         (~data_by_user_cohort['reg_date'].isin(['2017-01-01', '2017-01-11']))]['likes_count'].mean()\n",
    "\n",
    "print(f\"Average likes count for Control group: {round(control_avg_likes,2)}\")\n",
    "print(f\"Average likes count for Treatment group: {round(treatment_avg_likes,2)}\")"
   ]
  },
  {
   "cell_type": "code",
   "execution_count": null,
   "id": "67b98024-7d40-4ef6-a88f-92ffa4918ba3",
   "metadata": {},
   "outputs": [],
   "source": []
  },
  {
   "cell_type": "markdown",
   "id": "c3654a73-b03f-4b47-aad1-60b7cc65724d",
   "metadata": {},
   "source": [
    "# 3. Висновки і пропозиції"
   ]
  },
  {
   "cell_type": "markdown",
   "id": "e954dcdb-972f-487f-b7b9-74f04556e5b1",
   "metadata": {},
   "source": [
    "Контрольна група показала вищу кількість лайків на 1 користувача, ніж тестова група. Крім цього, для чоловіків, які становлять основну частину аудиторії, перевага є статистично значущою. Отже, __висновок: відхилити тестову версію (іконка-галочка) і залишити базовий варіант (іконка-сердечко)__.  \n",
    "\n",
    "Контрольна група має вищу кількість лайків на 1 користувача, ніж тестова група, не тільки загалом, але і якщо деталізувати результати за платформою, датою тесту і когортою (датою реєстрації користувача). Відмінність є тільки для гендеру - жінки у тестовій групі показали вищу кількість лайків, ніж жінки у контрольній групі. Проте, жінки становлять значно меншу частину аудиторії, ніж чоловіки, і різниця в кількості лайків між тестовою та контрольною групою несуттєва і вона НЕ є статистично значущою."
   ]
  }
 ],
 "metadata": {
  "kernelspec": {
   "display_name": "Python 3 (ipykernel)",
   "language": "python",
   "name": "python3"
  },
  "language_info": {
   "codemirror_mode": {
    "name": "ipython",
    "version": 3
   },
   "file_extension": ".py",
   "mimetype": "text/x-python",
   "name": "python",
   "nbconvert_exporter": "python",
   "pygments_lexer": "ipython3",
   "version": "3.9.18"
  }
 },
 "nbformat": 4,
 "nbformat_minor": 5
}
